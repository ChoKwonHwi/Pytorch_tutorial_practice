{
 "cells": [
  {
   "cell_type": "code",
   "execution_count": 72,
   "id": "881df961",
   "metadata": {},
   "outputs": [],
   "source": [
    "import torch\n",
    "import torch.nn as nn\n",
    "import torch.nn.functional as F\n",
    "import torch.optim as optim\n",
    "\n",
    "import torchvision\n",
    "import torchvision.transforms as transforms\n",
    "import torchvision.models as models\n",
    "\n",
    "import matplotlib\n",
    "import matplotlib.pyplot as plt\n",
    "import matplotlib.ticker as ticker\n",
    "\n",
    "#import captum\n",
    "#from captum.attr import IntegratedGradients, Occlusion, LayerGradCam, LayerAttribution\n",
    "#from captum.attr import visualization as viz\n",
    "\n",
    "import os, sys\n",
    "import json\n",
    "\n",
    "import numpy as np\n",
    "import math\n",
    "\n",
    "from matplotlib.colors import LinearSegmentedColormap\n",
    "from torch.utils.tensorboard import SummaryWriter\n",
    "from datetime import datetime\n",
    "from PIL import Image"
   ]
  },
  {
   "cell_type": "code",
   "execution_count": 68,
   "id": "0b68d977",
   "metadata": {},
   "outputs": [
    {
     "name": "stdout",
     "output_type": "stream",
     "text": [
      "Requirement already satisfied: torch in c:\\users\\82108\\anaconda3\\lib\\site-packages (1.13.0)\n",
      "Requirement already satisfied: torchvision in c:\\users\\82108\\anaconda3\\lib\\site-packages (0.14.0)\n",
      "Requirement already satisfied: captum in c:\\users\\82108\\anaconda3\\lib\\site-packages (0.6.0)\n",
      "Requirement already satisfied: matplotlib==3.3.4 in c:\\users\\82108\\anaconda3\\lib\\site-packages (3.3.4)\n",
      "Requirement already satisfied: Flask-Compress in c:\\users\\82108\\anaconda3\\lib\\site-packages (1.13)\n",
      "Requirement already satisfied: pillow>=6.2.0 in c:\\users\\82108\\anaconda3\\lib\\site-packages (from matplotlib==3.3.4) (9.2.0)\n",
      "Requirement already satisfied: cycler>=0.10 in c:\\users\\82108\\anaconda3\\lib\\site-packages (from matplotlib==3.3.4) (0.11.0)\n",
      "Requirement already satisfied: python-dateutil>=2.1 in c:\\users\\82108\\anaconda3\\lib\\site-packages (from matplotlib==3.3.4) (2.8.2)\n",
      "Requirement already satisfied: kiwisolver>=1.0.1 in c:\\users\\82108\\anaconda3\\lib\\site-packages (from matplotlib==3.3.4) (1.4.2)\n",
      "Requirement already satisfied: pyparsing!=2.0.4,!=2.1.2,!=2.1.6,>=2.0.3 in c:\\users\\82108\\anaconda3\\lib\\site-packages (from matplotlib==3.3.4) (3.0.9)\n",
      "Requirement already satisfied: numpy>=1.15 in c:\\users\\82108\\anaconda3\\lib\\site-packages (from matplotlib==3.3.4) (1.21.5)\n",
      "Requirement already satisfied: typing_extensions in c:\\users\\82108\\anaconda3\\lib\\site-packages (from torch) (4.4.0)\n",
      "Requirement already satisfied: requests in c:\\users\\82108\\anaconda3\\lib\\site-packages (from torchvision) (2.28.1)\n",
      "Requirement already satisfied: brotli in c:\\users\\82108\\anaconda3\\lib\\site-packages (from Flask-Compress) (1.0.9)\n",
      "Requirement already satisfied: flask in c:\\users\\82108\\anaconda3\\lib\\site-packages (from Flask-Compress) (1.1.2)\n",
      "Requirement already satisfied: six>=1.5 in c:\\users\\82108\\anaconda3\\lib\\site-packages (from python-dateutil>=2.1->matplotlib==3.3.4) (1.16.0)\n",
      "Requirement already satisfied: click>=5.1 in c:\\users\\82108\\anaconda3\\lib\\site-packages (from flask->Flask-Compress) (8.0.4)\n",
      "Requirement already satisfied: Jinja2>=2.10.1 in c:\\users\\82108\\anaconda3\\lib\\site-packages (from flask->Flask-Compress) (2.11.3)\n",
      "Requirement already satisfied: itsdangerous>=0.24 in c:\\users\\82108\\anaconda3\\lib\\site-packages (from flask->Flask-Compress) (2.0.1)\n",
      "Requirement already satisfied: Werkzeug>=0.15 in c:\\users\\82108\\anaconda3\\lib\\site-packages (from flask->Flask-Compress) (2.0.3)\n",
      "Requirement already satisfied: certifi>=2017.4.17 in c:\\users\\82108\\anaconda3\\lib\\site-packages (from requests->torchvision) (2023.5.7)\n",
      "Requirement already satisfied: charset-normalizer<3,>=2 in c:\\users\\82108\\anaconda3\\lib\\site-packages (from requests->torchvision) (2.0.4)\n",
      "Requirement already satisfied: urllib3<1.27,>=1.21.1 in c:\\users\\82108\\anaconda3\\lib\\site-packages (from requests->torchvision) (1.26.13)\n",
      "Requirement already satisfied: idna<4,>=2.5 in c:\\users\\82108\\anaconda3\\lib\\site-packages (from requests->torchvision) (3.4)\n",
      "Requirement already satisfied: colorama in c:\\users\\82108\\anaconda3\\lib\\site-packages (from click>=5.1->flask->Flask-Compress) (0.4.5)\n",
      "Requirement already satisfied: MarkupSafe>=0.23 in c:\\users\\82108\\anaconda3\\lib\\site-packages (from Jinja2>=2.10.1->flask->Flask-Compress) (2.0.1)\n"
     ]
    }
   ],
   "source": [
    "!pip install torch torchvision captum matplotlib==3.3.4 Flask-Compress"
   ]
  },
  {
   "cell_type": "markdown",
   "id": "5ca73423",
   "metadata": {},
   "source": [
    "# Introduction to Pytorch"
   ]
  },
  {
   "cell_type": "code",
   "execution_count": 5,
   "id": "c2ee0657",
   "metadata": {},
   "outputs": [],
   "source": [
    "class LeNet(nn.Module):\n",
    "\n",
    "    def __init__(self):\n",
    "        super(LeNet, self).__init__()\n",
    "        # 1 input image channel (black & white), 6 output channels, 5x5 square convolution\n",
    "        # kernel\n",
    "        self.conv1 = nn.Conv2d(1, 6, 5)\n",
    "        self.conv2 = nn.Conv2d(6, 16, 5)\n",
    "        # an affine operation: y = Wx + b\n",
    "        self.fc1 = nn.Linear(16 * 5 * 5, 120)\n",
    "        self.fc2 = nn.Linear(120, 84)\n",
    "        self.fc3 = nn.Linear(84, 10)\n",
    "\n",
    "    def forward(self, x):\n",
    "        # Max pooling over a (2, 2) window\n",
    "        x = F.max_pool2d(F.relu(self.conv1(x)), (2, 2))\n",
    "        x = F.max_pool2d(F.relu(self.conv2(x)), 2)\n",
    "        x = x.view(-1, self.num_flat_features(x)) # 차원 재구성\n",
    "        x = F.relu(self.fc1(x))\n",
    "        x = F.relu(self.fc2(x))\n",
    "        x = self.fc3(x)\n",
    "        return x\n",
    "\n",
    "    def num_flat_features(self, x):\n",
    "        size = x.size()[1:]  # all dimensions except the batch dimension\n",
    "        num_features = 1\n",
    "        for s in size:\n",
    "            num_features *= s\n",
    "        return num_features"
   ]
  },
  {
   "cell_type": "markdown",
   "id": "9fd1bbec",
   "metadata": {},
   "source": [
    "## super\n",
    "- 해당 class는 nn.Module class의 attribute들을 가지고 초기화\n",
    "\n",
    "## Reshape() vs View\n",
    "- view() : 원본 tensor와 data 공유 : deep copy\n",
    "- reshape() : 원본 tensor의 복사본 혹은 view를 반환 → copy인지 view인지 모름\n",
    "\n",
    "## forward\n",
    "- model 객체를 data와 함께 호출하면 자동으로 실행\n",
    "\n",
    "> 각 layer마다 1개씩 대응된다고 이해한 것이 맞을까?"
   ]
  },
  {
   "cell_type": "code",
   "execution_count": 6,
   "id": "f94a7107",
   "metadata": {},
   "outputs": [
    {
     "name": "stdout",
     "output_type": "stream",
     "text": [
      "LeNet(\n",
      "  (conv1): Conv2d(1, 6, kernel_size=(5, 5), stride=(1, 1))\n",
      "  (conv2): Conv2d(6, 16, kernel_size=(5, 5), stride=(1, 1))\n",
      "  (fc1): Linear(in_features=400, out_features=120, bias=True)\n",
      "  (fc2): Linear(in_features=120, out_features=84, bias=True)\n",
      "  (fc3): Linear(in_features=84, out_features=10, bias=True)\n",
      ")\n",
      "\n",
      "Image batch shape:\n",
      "torch.Size([1, 1, 32, 32])\n",
      "\n",
      "Raw output:\n",
      "tensor([[ 0.0517,  0.0257,  0.0715, -0.0874,  0.0222, -0.0827, -0.0051, -0.0924,\n",
      "         -0.0866,  0.0270]], grad_fn=<AddmmBackward0>)\n",
      "torch.Size([1, 10])\n"
     ]
    }
   ],
   "source": [
    "net = LeNet()\n",
    "print(net)                         # what does the object tell us about itself?\n",
    "\n",
    "input = torch.rand(1, 1, 32, 32)   # stand-in for a 32x32 black & white image\n",
    "print('\\nImage batch shape:')\n",
    "print(input.shape)\n",
    "\n",
    "output = net(input)                # we don't call forward() directly\n",
    "print('\\nRaw output:')\n",
    "print(output)\n",
    "print(output.shape)"
   ]
  },
  {
   "cell_type": "code",
   "execution_count": 7,
   "id": "bf7a7db6",
   "metadata": {},
   "outputs": [],
   "source": [
    "transform = transforms.Compose(\n",
    "    [transforms.ToTensor(),\n",
    "     transforms.Normalize((0.4914, 0.4822, 0.4465), (0.2470, 0.2435, 0.2616))])"
   ]
  },
  {
   "cell_type": "code",
   "execution_count": 8,
   "id": "4bf0db5d",
   "metadata": {},
   "outputs": [
    {
     "name": "stdout",
     "output_type": "stream",
     "text": [
      "Files already downloaded and verified\n"
     ]
    }
   ],
   "source": [
    "trainset = torchvision.datasets.CIFAR10(root='./data', train=True,\n",
    "                                        download=True, transform=transform)"
   ]
  },
  {
   "cell_type": "code",
   "execution_count": 9,
   "id": "8714b600",
   "metadata": {},
   "outputs": [],
   "source": [
    "trainloader = torch.utils.data.DataLoader(trainset, batch_size=4,\n",
    "                                          shuffle=True, num_workers=2)"
   ]
  },
  {
   "cell_type": "code",
   "execution_count": 10,
   "id": "0e785b36",
   "metadata": {},
   "outputs": [
    {
     "name": "stderr",
     "output_type": "stream",
     "text": [
      "Clipping input data to the valid range for imshow with RGB data ([0..1] for floats or [0..255] for integers).\n"
     ]
    },
    {
     "name": "stdout",
     "output_type": "stream",
     "text": [
      " bird  ship horse horse\n"
     ]
    },
    {
     "data": {
      "image/png": "[encoded data removed]",
      "text/plain": [
       "<Figure size 640x480 with 1 Axes>"
      ]
     },
     "metadata": {},
     "output_type": "display_data"
    }
   ],
   "source": [
    "classes = ('plane', 'car', 'bird', 'cat',\n",
    "           'deer', 'dog', 'frog', 'horse', 'ship', 'truck')\n",
    "\n",
    "def imshow(img):\n",
    "    img = img / 2 + 0.5     # unnormalize\n",
    "    npimg = img.numpy()\n",
    "    plt.imshow(np.transpose(npimg, (1, 2, 0)))\n",
    "\n",
    "\n",
    "# get some random training images\n",
    "dataiter = iter(trainloader)\n",
    "images, labels = next(dataiter)\n",
    "\n",
    "# show images\n",
    "imshow(torchvision.utils.make_grid(images))\n",
    "# print labels\n",
    "print(' '.join('%5s' % classes[labels[j]] for j in range(4)))"
   ]
  },
  {
   "cell_type": "code",
   "execution_count": 11,
   "id": "868b5561",
   "metadata": {},
   "outputs": [
    {
     "name": "stdout",
     "output_type": "stream",
     "text": [
      "Files already downloaded and verified\n",
      "Files already downloaded and verified\n"
     ]
    }
   ],
   "source": [
    "transform = transforms.Compose(\n",
    "    [transforms.ToTensor(),\n",
    "     transforms.Normalize((0.5, 0.5, 0.5), (0.5, 0.5, 0.5))])\n",
    "\n",
    "trainset = torchvision.datasets.CIFAR10(root='./data', train=True,\n",
    "                                        download=True, transform=transform)\n",
    "trainloader = torch.utils.data.DataLoader(trainset, batch_size=4,\n",
    "                                          shuffle=True, num_workers=2)\n",
    "\n",
    "testset = torchvision.datasets.CIFAR10(root='./data', train=False,\n",
    "                                       download=True, transform=transform)\n",
    "testloader = torch.utils.data.DataLoader(testset, batch_size=4,\n",
    "                                         shuffle=False, num_workers=2)\n",
    "\n",
    "classes = ('plane', 'car', 'bird', 'cat',\n",
    "           'deer', 'dog', 'frog', 'horse', 'ship', 'truck')"
   ]
  },
  {
   "cell_type": "code",
   "execution_count": 12,
   "id": "78f39416",
   "metadata": {},
   "outputs": [
    {
     "name": "stdout",
     "output_type": "stream",
     "text": [
      "  dog truck  deer  deer\n"
     ]
    },
    {
     "data": {
      "image/png": "[encoded data removed]",
      "text/plain": [
       "<Figure size 640x480 with 1 Axes>"
      ]
     },
     "metadata": {},
     "output_type": "display_data"
    }
   ],
   "source": [
    "def imshow(img):\n",
    "    img = img / 2 + 0.5     # unnormalize\n",
    "    npimg = img.numpy()\n",
    "    plt.imshow(np.transpose(npimg, (1, 2, 0)))\n",
    "\n",
    "\n",
    "# get some random training images\n",
    "dataiter = iter(trainloader)\n",
    "images, labels = next(dataiter)\n",
    "\n",
    "# show images\n",
    "imshow(torchvision.utils.make_grid(images))\n",
    "# print labels\n",
    "print(' '.join('%5s' % classes[labels[j]] for j in range(4)))"
   ]
  },
  {
   "cell_type": "code",
   "execution_count": 13,
   "id": "ea464f90",
   "metadata": {},
   "outputs": [],
   "source": [
    "class Net(nn.Module):\n",
    "    def __init__(self):\n",
    "        super(Net, self).__init__()\n",
    "        self.conv1 = nn.Conv2d(3, 6, 5)\n",
    "        self.pool = nn.MaxPool2d(2, 2)\n",
    "        self.conv2 = nn.Conv2d(6, 16, 5)\n",
    "        self.fc1 = nn.Linear(16 * 5 * 5, 120)\n",
    "        self.fc2 = nn.Linear(120, 84)\n",
    "        self.fc3 = nn.Linear(84, 10)\n",
    "\n",
    "    def forward(self, x):\n",
    "        x = self.pool(F.relu(self.conv1(x)))\n",
    "        x = self.pool(F.relu(self.conv2(x)))\n",
    "        x = x.view(-1, 16 * 5 * 5)\n",
    "        x = F.relu(self.fc1(x))\n",
    "        x = F.relu(self.fc2(x))\n",
    "        x = self.fc3(x)\n",
    "        return x\n",
    "\n",
    "\n",
    "net = Net()"
   ]
  },
  {
   "cell_type": "code",
   "execution_count": 14,
   "id": "d8398a36",
   "metadata": {},
   "outputs": [],
   "source": [
    "criterion = nn.CrossEntropyLoss()\n",
    "optimizer = optim.Adam(net.parameters(), lr=0.001)\n",
    "#optimizer = optim.SGD(net.parameters(), lr=0.001, momentum=0.9)"
   ]
  },
  {
   "cell_type": "code",
   "execution_count": 15,
   "id": "d84b22d5",
   "metadata": {},
   "outputs": [
    {
     "name": "stdout",
     "output_type": "stream",
     "text": [
      "[1,  2000] loss: 1.898\n",
      "[1,  4000] loss: 1.582\n",
      "[1,  6000] loss: 1.482\n",
      "[1,  8000] loss: 1.432\n",
      "[1, 10000] loss: 1.373\n",
      "[1, 12000] loss: 1.354\n",
      "[2,  2000] loss: 1.286\n",
      "[2,  4000] loss: 1.263\n",
      "[2,  6000] loss: 1.249\n",
      "[2,  8000] loss: 1.231\n",
      "[2, 10000] loss: 1.218\n",
      "[2, 12000] loss: 1.228\n",
      "Finished Training\n"
     ]
    }
   ],
   "source": [
    "for epoch in range(2):  # loop over the dataset multiple times\n",
    "    running_loss = 0.0\n",
    "    for i, data in enumerate(trainloader, 0):\n",
    "        inputs, labels = data\n",
    "\n",
    "        optimizer.zero_grad() # gradient 초기화\n",
    "\n",
    "        outputs = net(inputs) # forward 계산\n",
    "        loss = criterion(outputs, labels) # loss 계산\n",
    "        loss.backward() # backward gradient 계산\n",
    "        optimizer.step() # optimize\n",
    "\n",
    "        # print statistics\n",
    "        running_loss += loss.item()\n",
    "        if i % 2000 == 1999:    # print every 2000 mini-batches\n",
    "            print('[%d, %5d] loss: %.3f' %\n",
    "                  (epoch + 1, i + 1, running_loss / 2000))\n",
    "            running_loss = 0.0\n",
    "\n",
    "print('Finished Training')"
   ]
  },
  {
   "cell_type": "code",
   "execution_count": 16,
   "id": "0a4a5f56",
   "metadata": {},
   "outputs": [
    {
     "name": "stdout",
     "output_type": "stream",
     "text": [
      "Accuracy of the network on the 10000 test images: 55 %\n"
     ]
    }
   ],
   "source": [
    "correct = 0\n",
    "total = 0\n",
    "with torch.no_grad():\n",
    "    for data in testloader:\n",
    "        images, labels = data\n",
    "        outputs = net(images)\n",
    "        _, predicted = torch.max(outputs.data, 1)\n",
    "        total += labels.size(0)\n",
    "        correct += (predicted == labels).sum().item()\n",
    "\n",
    "print('Accuracy of the network on the 10000 test images: %d %%' % (\n",
    "    100 * correct / total))"
   ]
  },
  {
   "cell_type": "markdown",
   "id": "c59b5944",
   "metadata": {},
   "source": [
    "# Introduction to Pytorch Tensors"
   ]
  },
  {
   "cell_type": "code",
   "execution_count": 17,
   "id": "99d62cad",
   "metadata": {},
   "outputs": [
    {
     "name": "stdout",
     "output_type": "stream",
     "text": [
      "tensor([[0., 0., 0.],\n",
      "        [0., 0., 0.]])\n",
      "tensor([[1., 1., 1.],\n",
      "        [1., 1., 1.]])\n",
      "tensor([[0.3126, 0.3791, 0.3087],\n",
      "        [0.0736, 0.4216, 0.0691]])\n"
     ]
    }
   ],
   "source": [
    "zeros = torch.zeros(2, 3)\n",
    "print(zeros)\n",
    "\n",
    "ones = torch.ones(2, 3)\n",
    "print(ones)\n",
    "\n",
    "torch.manual_seed(1729)\n",
    "random = torch.rand(2, 3)\n",
    "print(random)"
   ]
  },
  {
   "cell_type": "code",
   "execution_count": 18,
   "id": "18b0db1e",
   "metadata": {},
   "outputs": [
    {
     "name": "stdout",
     "output_type": "stream",
     "text": [
      "torch.Size([2, 2, 3])\n",
      "tensor([[[0., 0., 0.],\n",
      "         [0., 0., 0.]],\n",
      "\n",
      "        [[0., 0., 0.],\n",
      "         [0., 0., 0.]]])\n",
      "torch.Size([2, 2, 3])\n",
      "tensor([[[0., 0., 0.],\n",
      "         [0., 0., 0.]],\n",
      "\n",
      "        [[0., 0., 0.],\n",
      "         [0., 0., 0.]]])\n",
      "torch.Size([2, 2, 3])\n",
      "tensor([[[0., 0., 0.],\n",
      "         [0., 0., 0.]],\n",
      "\n",
      "        [[0., 0., 0.],\n",
      "         [0., 0., 0.]]])\n",
      "torch.Size([2, 2, 3])\n",
      "tensor([[[1., 1., 1.],\n",
      "         [1., 1., 1.]],\n",
      "\n",
      "        [[1., 1., 1.],\n",
      "         [1., 1., 1.]]])\n",
      "torch.Size([2, 2, 3])\n",
      "tensor([[[0.2332, 0.4047, 0.2162],\n",
      "         [0.9927, 0.4128, 0.5938]],\n",
      "\n",
      "        [[0.6128, 0.1519, 0.0453],\n",
      "         [0.5035, 0.9978, 0.3884]]])\n"
     ]
    }
   ],
   "source": [
    "x = torch.empty(2, 2, 3)\n",
    "print(x.shape)\n",
    "print(x)\n",
    "\n",
    "empty_like_x = torch.empty_like(x)\n",
    "print(empty_like_x.shape)\n",
    "print(empty_like_x)\n",
    "\n",
    "zeros_like_x = torch.zeros_like(x)\n",
    "print(zeros_like_x.shape)\n",
    "print(zeros_like_x)\n",
    "\n",
    "ones_like_x = torch.ones_like(x)\n",
    "print(ones_like_x.shape)\n",
    "print(ones_like_x)\n",
    "\n",
    "rand_like_x = torch.rand_like(x)\n",
    "print(rand_like_x.shape)\n",
    "print(rand_like_x)"
   ]
  },
  {
   "cell_type": "markdown",
   "id": "df8ed330",
   "metadata": {},
   "source": [
    "## torch.tensor()\n",
    "- torch.tensor() : python tuple / list를 tensor로 변환\n",
    "- torch.tensor()는 data의 복사본을 생성한다."
   ]
  },
  {
   "cell_type": "code",
   "execution_count": 19,
   "id": "b27fc935",
   "metadata": {},
   "outputs": [
    {
     "name": "stdout",
     "output_type": "stream",
     "text": [
      "tensor([[3.1416, 2.7183],\n",
      "        [1.6180, 0.0073]])\n",
      "tensor([ 2,  3,  5,  7, 11, 13, 17, 19])\n",
      "tensor([[2, 4, 6],\n",
      "        [3, 6, 9]])\n"
     ]
    }
   ],
   "source": [
    "some_constants = torch.tensor([[3.1415926, 2.71828], [1.61803, 0.0072897]])\n",
    "print(some_constants)\n",
    "\n",
    "some_integers = torch.tensor((2, 3, 5, 7, 11, 13, 17, 19))\n",
    "print(some_integers)\n",
    "\n",
    "more_integers = torch.tensor(((2, 4, 6), [3, 6, 9]))\n",
    "print(more_integers)"
   ]
  },
  {
   "cell_type": "markdown",
   "id": "f0920d3a",
   "metadata": {},
   "source": [
    "## torch 자료형\n",
    "- torch.bool\n",
    "- torch.int8\n",
    "- torch.uint8 : unsigned 8 bit integer\n",
    "- torch.int16\n",
    "- torch.int32\n",
    "- torch.int64\n",
    "- torch.half : == torch.float16\n",
    "- torch.float\n",
    "- torch.double\n",
    "- torch.bfloat : ??"
   ]
  },
  {
   "cell_type": "code",
   "execution_count": 20,
   "id": "68a9e688",
   "metadata": {},
   "outputs": [
    {
     "name": "stdout",
     "output_type": "stream",
     "text": [
      "tensor([[1, 1, 1],\n",
      "        [1, 1, 1]], dtype=torch.int16)\n",
      "tensor([[10.8626,  2.1505, 19.6913],\n",
      "        [ 0.9956,  1.4148,  5.8364]], dtype=torch.float64)\n",
      "tensor([[10,  2, 19],\n",
      "        [ 0,  1,  5]], dtype=torch.int32)\n"
     ]
    }
   ],
   "source": [
    "a = torch.ones((2, 3), dtype=torch.int16)\n",
    "print(a)\n",
    "\n",
    "b = torch.rand((2, 3), dtype=torch.float64) * 20.\n",
    "print(b)\n",
    "\n",
    "c = b.to(torch.int32)\n",
    "print(c)"
   ]
  },
  {
   "cell_type": "markdown",
   "id": "9ae4062c",
   "metadata": {},
   "source": [
    "## Broadcasting\n",
    "\n",
    "- pytorch operation이 bradcast를 지원하면 자동적으로 동일한 size로 확장\n",
    "- 아래의 조건을 만족할 시 두 tensor는 broadcastable\n",
    "\n",
    "1) 각 tensor는 최소한 한 차원은 가지고 있다.\n",
    "2) 차원 크기에 따라 반복할 때, 뒤 쪽에서 시작하여 차원의 크기는 동일해야하고, 그 중 하나는 1이거나 존재하지 않아야한다."
   ]
  },
  {
   "cell_type": "code",
   "execution_count": 21,
   "id": "ec1a318d",
   "metadata": {},
   "outputs": [
    {
     "name": "stdout",
     "output_type": "stream",
     "text": [
      "tensor([[0.0703, 0.5105, 0.9451, 0.2359],\n",
      "        [0.1979, 0.3327, 0.6146, 0.5999]])\n",
      "tensor([[0.1405, 1.0210, 1.8901, 0.4717],\n",
      "        [0.3959, 0.6655, 1.2291, 1.1998]])\n"
     ]
    }
   ],
   "source": [
    "rand = torch.rand(2, 4)\n",
    "doubled = rand * (torch.ones(1, 4) * 2)\n",
    "\n",
    "# (2, 4) * (1, 4) →???? \n",
    "\n",
    "print(rand)\n",
    "print(doubled)"
   ]
  },
  {
   "cell_type": "markdown",
   "id": "617dd330",
   "metadata": {},
   "source": [
    "## 다양한 함수들\n",
    "- torch.clamp() : a를 min, max 범주에 해당하도록 값을 변경"
   ]
  },
  {
   "cell_type": "code",
   "execution_count": 22,
   "id": "401c7f80",
   "metadata": {},
   "outputs": [
    {
     "name": "stdout",
     "output_type": "stream",
     "text": [
      "Common functions:\n",
      "tensor([[0.0026, 0.8793, 0.7312, 0.0413],\n",
      "        [0.3730, 0.2772, 0.2987, 0.4734]])\n",
      "tensor([[1., 1., 1., 1.],\n",
      "        [1., -0., 1., -0.]])\n",
      "tensor([[ 0.,  0.,  0.,  0.],\n",
      "        [ 0., -1.,  0., -1.]])\n",
      "tensor([[ 0.0026,  0.5000,  0.5000,  0.0413],\n",
      "        [ 0.3730, -0.2772,  0.2987, -0.4734]])\n",
      "\n",
      "Sine and arcsine:\n",
      "tensor([0.0000, 0.7854, 1.5708, 2.3562])\n",
      "tensor([0.0000, 0.7071, 1.0000, 0.7071])\n",
      "tensor([0.0000, 0.7854, 1.5708, 0.7854])\n",
      "\n",
      "Bitwise XOR:\n",
      "tensor([3, 2, 1])\n",
      "\n",
      "Broadcasted, element-wise equality comparison:\n",
      "tensor([[ True, False],\n",
      "        [False, False]])\n",
      "\n",
      "Reduction ops:\n",
      "tensor(4.)\n",
      "4.0\n",
      "tensor(2.5000)\n",
      "tensor(1.2910)\n",
      "tensor(24.)\n",
      "tensor([1, 2])\n",
      "\n",
      "Vectors & Matrices:\n",
      "tensor([ 0.,  0., -1.])\n",
      "tensor([[0.4762, 0.0548],\n",
      "        [0.2024, 0.5731]])\n",
      "tensor([[1.4286, 0.1643],\n",
      "        [0.6073, 1.7192]])\n",
      "torch.return_types.svd(\n",
      "U=tensor([[-0.5102, -0.8600],\n",
      "        [-0.8600,  0.5102]]),\n",
      "S=tensor([2.0017, 1.1771]),\n",
      "V=tensor([[-0.6251, -0.7805],\n",
      "        [-0.7805,  0.6251]]))\n"
     ]
    }
   ],
   "source": [
    "# common functions\n",
    "a = torch.rand(2, 4) * 2 - 1\n",
    "print('Common functions:')\n",
    "print(torch.abs(a))\n",
    "print(torch.ceil(a))\n",
    "print(torch.floor(a))\n",
    "print(torch.clamp(a, -0.5, 0.5)) # a를 min, max 범주에 해당하도록 값을 변경\n",
    "\n",
    "# trigonometric functions and their inverses\n",
    "angles = torch.tensor([0, math.pi / 4, math.pi / 2, 3 * math.pi / 4])\n",
    "sines = torch.sin(angles)\n",
    "inverses = torch.asin(sines)\n",
    "print('\\nSine and arcsine:')\n",
    "print(angles)\n",
    "print(sines)\n",
    "print(inverses)\n",
    "\n",
    "# bitwise operations\n",
    "print('\\nBitwise XOR:')\n",
    "b = torch.tensor([1, 5, 11])\n",
    "c = torch.tensor([2, 7, 10])\n",
    "print(torch.bitwise_xor(b, c))\n",
    "\n",
    "# comparisons:\n",
    "print('\\nBroadcasted, element-wise equality comparison:')\n",
    "d = torch.tensor([[1., 2.], [3., 4.]])\n",
    "e = torch.ones(1, 2)  # many comparison ops support broadcasting!\n",
    "print(torch.eq(d, e)) # returns a tensor of type bool\n",
    "\n",
    "# reductions:\n",
    "print('\\nReduction ops:')\n",
    "print(torch.max(d))        # returns a single-element tensor\n",
    "print(torch.max(d).item()) # extracts the value from the returned tensor\n",
    "print(torch.mean(d))       # average\n",
    "print(torch.std(d))        # standard deviation\n",
    "print(torch.prod(d))       # product of all numbers\n",
    "print(torch.unique(torch.tensor([1, 2, 1, 2, 1, 2]))) # filter unique elements\n",
    "\n",
    "# vector and linear algebra operations\n",
    "v1 = torch.tensor([1., 0., 0.])         # x unit vector\n",
    "v2 = torch.tensor([0., 1., 0.])         # y unit vector\n",
    "m1 = torch.rand(2, 2)                   # random matrix\n",
    "m2 = torch.tensor([[3., 0.], [0., 3.]]) # three times identity matrix\n",
    "\n",
    "print('\\nVectors & Matrices:')\n",
    "print(torch.cross(v2, v1)) # negative of z unit vector (v1 x v2 == -v2 x v1)\n",
    "print(m1)\n",
    "m3 = torch.matmul(m1, m2)\n",
    "print(m3)                  # 3 times m1\n",
    "print(torch.svd(m3))       # SVD 계산"
   ]
  },
  {
   "cell_type": "code",
   "execution_count": 23,
   "id": "1c7d172e",
   "metadata": {},
   "outputs": [
    {
     "name": "stdout",
     "output_type": "stream",
     "text": [
      "a:\n",
      "tensor([0.0000, 0.7854, 1.5708, 2.3562])\n",
      "tensor([0.0000, 0.7071, 1.0000, 0.7071])\n",
      "tensor([0.0000, 0.7854, 1.5708, 2.3562])\n",
      "\n",
      "b:\n",
      "tensor([0.0000, 0.7854, 1.5708, 2.3562])\n",
      "tensor([0.0000, 0.7071, 1.0000, 0.7071])\n",
      "tensor([0.0000, 0.7071, 1.0000, 0.7071])\n"
     ]
    }
   ],
   "source": [
    "a = torch.tensor([0, math.pi / 4, math.pi / 2, 3 * math.pi / 4])\n",
    "print('a:')\n",
    "print(a)\n",
    "print(torch.sin(a))   # this operation creates a new tensor in memory\n",
    "print(a)              # a has not changed\n",
    "\n",
    "b = torch.tensor([0, math.pi / 4, math.pi / 2, 3 * math.pi / 4])\n",
    "print('\\nb:')\n",
    "print(b)\n",
    "print(torch.sin_(b))  # note the underscore\n",
    "print(b)              # b has changed"
   ]
  },
  {
   "cell_type": "markdown",
   "id": "f80ec653",
   "metadata": {},
   "source": [
    "## Altering\n",
    "- fucn_() : 원본의 값을 교체\n",
    "- clone() : history 유지, new memory 할당\n",
    "- clone().detach() : 새 tensor를 메모리에 할당, 기존 계산 그래프와 끊음\n",
    "- detach().clone() : 기울기가 계산되지 않은 tensor를 만들고 새로운 메모리에 할당\n",
    "- 후자가 조금 더 빠르다고 한다."
   ]
  },
  {
   "cell_type": "code",
   "execution_count": 24,
   "id": "786109dc",
   "metadata": {},
   "outputs": [
    {
     "name": "stdout",
     "output_type": "stream",
     "text": [
      "tensor([[  1., 561.],\n",
      "        [  1.,   1.]])\n",
      "tensor([[True, True],\n",
      "        [True, True]])\n",
      "tensor([[1., 1.],\n",
      "        [1., 1.]])\n",
      "tensor([[0.7191, 0.4067],\n",
      "        [0.7301, 0.6276]], requires_grad=True)\n",
      "tensor([[0.7191, 0.4067],\n",
      "        [0.7301, 0.6276]], grad_fn=<CloneBackward0>)\n",
      "tensor([[0.7191, 0.4067],\n",
      "        [0.7301, 0.6276]])\n",
      "tensor([[0.7191, 0.4067],\n",
      "        [0.7301, 0.6276]], requires_grad=True)\n"
     ]
    }
   ],
   "source": [
    "a = torch.ones(2, 2)\n",
    "b = a\n",
    "\n",
    "a[0][1] = 561  # we change a...\n",
    "print(b)       # ...and b is also altered\n",
    "\n",
    "a = torch.ones(2, 2)\n",
    "b = a.clone()\n",
    "\n",
    "assert b is not a      # different objects in memory...\n",
    "print(torch.eq(a, b))  # ...but still with the same contents!\n",
    "\n",
    "a[0][1] = 561          # a changes...\n",
    "print(b)               # ...but b is still all ones\n",
    "\n",
    "a = torch.rand(2, 2, requires_grad=True) # turn on autograd\n",
    "print(a)\n",
    "\n",
    "b = a.clone()\n",
    "print(b)\n",
    "\n",
    "c = a.detach().clone()\n",
    "print(c)\n",
    "\n",
    "print(a)"
   ]
  },
  {
   "cell_type": "code",
   "execution_count": 25,
   "id": "38c29ad1",
   "metadata": {},
   "outputs": [
    {
     "name": "stdout",
     "output_type": "stream",
     "text": [
      "Sorry, CPU only.\n"
     ]
    }
   ],
   "source": [
    "if torch.cuda.is_available():\n",
    "    print('We have a GPU!')\n",
    "else:\n",
    "    print('Sorry, CPU only.')\n",
    "\n",
    "# 저는 안 좋은 것이긴 해도 GPU가 있어요...무시하지 말아주세요..."
   ]
  },
  {
   "cell_type": "code",
   "execution_count": 26,
   "id": "b86b9c81",
   "metadata": {},
   "outputs": [
    {
     "name": "stdout",
     "output_type": "stream",
     "text": [
      "Sorry, CPU only.\n"
     ]
    }
   ],
   "source": [
    "if torch.cuda.is_available():\n",
    "    gpu_rand = torch.rand(2, 2, device='cuda')\n",
    "    print(gpu_rand)\n",
    "else:\n",
    "    print('Sorry, CPU only.')"
   ]
  },
  {
   "cell_type": "markdown",
   "id": "722b27e2",
   "metadata": {},
   "source": [
    "## dimension\n",
    "- squeeze() : 차원이 1인 차원을 제거, 설정하지 않으면 1인 차원 모두 제거, 설정시 그 차원만 제거 → batch가 1인 차원도 제거해버릴 수 있으니 조심...\n",
    "- unsqueeze : 1인 차원을 생성, 어느 차원에 생성할 지 지정해야한다."
   ]
  },
  {
   "cell_type": "code",
   "execution_count": 27,
   "id": "62feadc7",
   "metadata": {},
   "outputs": [
    {
     "name": "stdout",
     "output_type": "stream",
     "text": [
      "torch.Size([3, 226, 226])\n",
      "torch.Size([1, 3, 226, 226])\n",
      "torch.Size([3, 1])\n",
      "tensor([[[0.9646, 0.9646],\n",
      "         [0.1726, 0.1726],\n",
      "         [0.5225, 0.5225]],\n",
      "\n",
      "        [[0.9646, 0.9646],\n",
      "         [0.1726, 0.1726],\n",
      "         [0.5225, 0.5225]],\n",
      "\n",
      "        [[0.9646, 0.9646],\n",
      "         [0.1726, 0.1726],\n",
      "         [0.5225, 0.5225]],\n",
      "\n",
      "        [[0.9646, 0.9646],\n",
      "         [0.1726, 0.1726],\n",
      "         [0.5225, 0.5225]]])\n"
     ]
    }
   ],
   "source": [
    "a = torch.rand(3, 226, 226)\n",
    "b = a.unsqueeze(0)\n",
    "\n",
    "print(a.shape)\n",
    "print(b.shape)\n",
    "\n",
    "a = torch.ones(4, 3, 2)\n",
    "b = torch.rand(   3)     # trying to multiply a * b will give a runtime error\n",
    "c = b.unsqueeze(1)       # change to a 2-dimensional tensor, adding new dim at the end\n",
    "print(c.shape)\n",
    "print(a * c)             # broadcasting works again!"
   ]
  },
  {
   "cell_type": "markdown",
   "id": "46ffefd4",
   "metadata": {},
   "source": [
    "# The Fundamentals of Autograd"
   ]
  },
  {
   "cell_type": "markdown",
   "id": "78a6ec33",
   "metadata": {},
   "source": [
    "## Autograd\n",
    "- gradient를 쉽게 계산해준다.\n",
    "- loss를 모든 input에 대해 0에 가깝게 만드는 과정을 도와준다.\n",
    "- loss는 input에 대한 것이 아닌, output(y)에 대해 파생되는 것이다.\n",
    "- Chain rule에 의해 gradient를 계산\n",
    "- 각 gradient function은 local gradient 곱의 합이다.\n",
    "- requires_grad 설정"
   ]
  },
  {
   "cell_type": "code",
   "execution_count": 28,
   "id": "2ad465d8",
   "metadata": {},
   "outputs": [
    {
     "name": "stdout",
     "output_type": "stream",
     "text": [
      "tensor([0.0000, 0.2618, 0.5236, 0.7854, 1.0472, 1.3090, 1.5708, 1.8326, 2.0944,\n",
      "        2.3562, 2.6180, 2.8798, 3.1416, 3.4034, 3.6652, 3.9270, 4.1888, 4.4506,\n",
      "        4.7124, 4.9742, 5.2360, 5.4978, 5.7596, 6.0214, 6.2832],\n",
      "       requires_grad=True)\n"
     ]
    }
   ],
   "source": [
    "a = torch.linspace(0., 2. * math.pi, steps=25, requires_grad=True)\n",
    "print(a)"
   ]
  },
  {
   "cell_type": "code",
   "execution_count": 29,
   "id": "209c06c5",
   "metadata": {},
   "outputs": [
    {
     "data": {
      "text/plain": [
       "[<matplotlib.lines.Line2D at 0x13bd51136d0>]"
      ]
     },
     "execution_count": 29,
     "metadata": {},
     "output_type": "execute_result"
    },
    {
     "data": {
      "image/png": "[encoded data removed]",
      "text/plain": [
       "<Figure size 640x480 with 1 Axes>"
      ]
     },
     "metadata": {},
     "output_type": "display_data"
    }
   ],
   "source": [
    "b = torch.sin(a)\n",
    "plt.plot(a.detach(), b.detach())"
   ]
  },
  {
   "cell_type": "code",
   "execution_count": 30,
   "id": "3f5219f9",
   "metadata": {},
   "outputs": [
    {
     "name": "stdout",
     "output_type": "stream",
     "text": [
      "tensor([ 0.0000e+00,  2.5882e-01,  5.0000e-01,  7.0711e-01,  8.6603e-01,\n",
      "         9.6593e-01,  1.0000e+00,  9.6593e-01,  8.6603e-01,  7.0711e-01,\n",
      "         5.0000e-01,  2.5882e-01, -8.7423e-08, -2.5882e-01, -5.0000e-01,\n",
      "        -7.0711e-01, -8.6603e-01, -9.6593e-01, -1.0000e+00, -9.6593e-01,\n",
      "        -8.6603e-01, -7.0711e-01, -5.0000e-01, -2.5882e-01,  1.7485e-07],\n",
      "       grad_fn=<SinBackward0>)\n"
     ]
    }
   ],
   "source": [
    "print(b)"
   ]
  },
  {
   "cell_type": "code",
   "execution_count": 31,
   "id": "401dd50f",
   "metadata": {},
   "outputs": [
    {
     "name": "stdout",
     "output_type": "stream",
     "text": [
      "tensor([ 0.0000e+00,  5.1764e-01,  1.0000e+00,  1.4142e+00,  1.7321e+00,\n",
      "         1.9319e+00,  2.0000e+00,  1.9319e+00,  1.7321e+00,  1.4142e+00,\n",
      "         1.0000e+00,  5.1764e-01, -1.7485e-07, -5.1764e-01, -1.0000e+00,\n",
      "        -1.4142e+00, -1.7321e+00, -1.9319e+00, -2.0000e+00, -1.9319e+00,\n",
      "        -1.7321e+00, -1.4142e+00, -1.0000e+00, -5.1764e-01,  3.4969e-07],\n",
      "       grad_fn=<MulBackward0>)\n",
      "tensor([ 1.0000e+00,  1.5176e+00,  2.0000e+00,  2.4142e+00,  2.7321e+00,\n",
      "         2.9319e+00,  3.0000e+00,  2.9319e+00,  2.7321e+00,  2.4142e+00,\n",
      "         2.0000e+00,  1.5176e+00,  1.0000e+00,  4.8236e-01, -3.5763e-07,\n",
      "        -4.1421e-01, -7.3205e-01, -9.3185e-01, -1.0000e+00, -9.3185e-01,\n",
      "        -7.3205e-01, -4.1421e-01,  4.7684e-07,  4.8236e-01,  1.0000e+00],\n",
      "       grad_fn=<AddBackward0>)\n",
      "tensor(25., grad_fn=<SumBackward0>)\n"
     ]
    }
   ],
   "source": [
    "c = 2 * b\n",
    "print(c)\n",
    "\n",
    "d = c + 1\n",
    "print(d)\n",
    "\n",
    "out = d.sum()\n",
    "print(out)"
   ]
  },
  {
   "cell_type": "code",
   "execution_count": 32,
   "id": "278a1e14",
   "metadata": {},
   "outputs": [
    {
     "name": "stdout",
     "output_type": "stream",
     "text": [
      "d:\n",
      "<AddBackward0 object at 0x0000013BD519B790>\n",
      "((<MulBackward0 object at 0x0000013BCA470F70>, 0), (None, 0))\n",
      "((<SinBackward0 object at 0x0000013BD519B790>, 0), (None, 0))\n",
      "((<AccumulateGrad object at 0x0000013BCA470700>, 0),)\n",
      "()\n",
      "\n",
      "c:\n",
      "<MulBackward0 object at 0x0000013BD519BAF0>\n",
      "\n",
      "b:\n",
      "<SinBackward0 object at 0x0000013BD519BAF0>\n",
      "\n",
      "a:\n",
      "None\n"
     ]
    }
   ],
   "source": [
    "print('d:')\n",
    "print(d.grad_fn)\n",
    "print(d.grad_fn.next_functions)\n",
    "print(d.grad_fn.next_functions[0][0].next_functions)\n",
    "print(d.grad_fn.next_functions[0][0].next_functions[0][0].next_functions)\n",
    "print(d.grad_fn.next_functions[0][0].next_functions[0][0].next_functions[0][0].next_functions)\n",
    "print('\\nc:')\n",
    "print(c.grad_fn)\n",
    "print('\\nb:')\n",
    "print(b.grad_fn)\n",
    "print('\\na:')\n",
    "print(a.grad_fn)"
   ]
  },
  {
   "cell_type": "code",
   "execution_count": 33,
   "id": "67d9262c",
   "metadata": {},
   "outputs": [
    {
     "name": "stdout",
     "output_type": "stream",
     "text": [
      "tensor([ 2.0000e+00,  1.9319e+00,  1.7321e+00,  1.4142e+00,  1.0000e+00,\n",
      "         5.1764e-01, -8.7423e-08, -5.1764e-01, -1.0000e+00, -1.4142e+00,\n",
      "        -1.7321e+00, -1.9319e+00, -2.0000e+00, -1.9319e+00, -1.7321e+00,\n",
      "        -1.4142e+00, -1.0000e+00, -5.1764e-01,  2.3850e-08,  5.1764e-01,\n",
      "         1.0000e+00,  1.4142e+00,  1.7321e+00,  1.9319e+00,  2.0000e+00])\n"
     ]
    },
    {
     "data": {
      "text/plain": [
       "[<matplotlib.lines.Line2D at 0x13bd52f4b80>]"
      ]
     },
     "execution_count": 33,
     "metadata": {},
     "output_type": "execute_result"
    },
    {
     "data": {
      "image/png": "[encoded data removed]",
      "text/plain": [
       "<Figure size 640x480 with 1 Axes>"
      ]
     },
     "metadata": {},
     "output_type": "display_data"
    }
   ],
   "source": [
    "out.backward()\n",
    "print(a.grad)\n",
    "plt.plot(a.detach(), a.grad.detach())\n",
    "# graph gradient graph"
   ]
  },
  {
   "cell_type": "code",
   "execution_count": 34,
   "id": "a1003b59",
   "metadata": {},
   "outputs": [],
   "source": [
    "a = torch.linspace(0., 2. * math.pi, steps=25, requires_grad=True)\n",
    "b = torch.sin(a)\n",
    "c = 2 * b\n",
    "d = c + 1\n",
    "out = d.sum()"
   ]
  },
  {
   "cell_type": "markdown",
   "id": "0848e5d0",
   "metadata": {},
   "source": [
    "## Autograd in training"
   ]
  },
  {
   "cell_type": "code",
   "execution_count": 35,
   "id": "10a9d637",
   "metadata": {},
   "outputs": [],
   "source": [
    "BATCH_SIZE = 16\n",
    "DIM_IN = 1000\n",
    "HIDDEN_SIZE = 100\n",
    "DIM_OUT = 10\n",
    "\n",
    "class TinyModel(torch.nn.Module):\n",
    "\n",
    "    def __init__(self):\n",
    "        super(TinyModel, self).__init__()\n",
    "\n",
    "        self.layer1 = torch.nn.Linear(1000, 100)\n",
    "        self.relu = torch.nn.ReLU()\n",
    "        self.layer2 = torch.nn.Linear(100, 10)\n",
    "\n",
    "    def forward(self, x):\n",
    "        x = self.layer1(x)\n",
    "        x = self.relu(x)\n",
    "        x = self.layer2(x)\n",
    "        return x\n",
    "\n",
    "some_input = torch.randn(BATCH_SIZE, DIM_IN, requires_grad=False)\n",
    "ideal_output = torch.randn(BATCH_SIZE, DIM_OUT, requires_grad=False)\n",
    "\n",
    "model = TinyModel()"
   ]
  },
  {
   "cell_type": "code",
   "execution_count": 36,
   "id": "c5a0aa0f",
   "metadata": {},
   "outputs": [
    {
     "name": "stdout",
     "output_type": "stream",
     "text": [
      "tensor([-0.0362,  0.0537, -0.0847,  0.0336,  0.0515,  0.0535,  0.0736, -0.0530,\n",
      "         0.0315, -0.0863], grad_fn=<SliceBackward0>)\n",
      "None\n"
     ]
    }
   ],
   "source": [
    "print(model.layer2.weight[0][0:10]) # just a small slice\n",
    "print(model.layer2.weight.grad)"
   ]
  },
  {
   "cell_type": "code",
   "execution_count": 37,
   "id": "671e1afb",
   "metadata": {},
   "outputs": [
    {
     "name": "stdout",
     "output_type": "stream",
     "text": [
      "tensor(182.5238, grad_fn=<SumBackward0>)\n"
     ]
    }
   ],
   "source": [
    "optimizer = torch.optim.SGD(model.parameters(), lr=0.001)\n",
    "\n",
    "prediction = model(some_input)\n",
    "\n",
    "loss = (ideal_output - prediction).pow(2).sum()\n",
    "print(loss)"
   ]
  },
  {
   "cell_type": "code",
   "execution_count": 38,
   "id": "365c8097",
   "metadata": {},
   "outputs": [
    {
     "name": "stdout",
     "output_type": "stream",
     "text": [
      "tensor([-0.0362,  0.0537, -0.0847,  0.0336,  0.0515,  0.0535,  0.0736, -0.0530,\n",
      "         0.0315, -0.0863], grad_fn=<SliceBackward0>)\n",
      "tensor([-0.4058, -1.1056, -7.2330, -1.7092,  1.0408,  1.5486, -0.9126,  5.7596,\n",
      "         1.2251, -1.2476])\n"
     ]
    }
   ],
   "source": [
    "loss.backward()\n",
    "print(model.layer2.weight[0][0:10])\n",
    "print(model.layer2.weight.grad[0][0:10])"
   ]
  },
  {
   "cell_type": "code",
   "execution_count": 39,
   "id": "79f32518",
   "metadata": {},
   "outputs": [
    {
     "name": "stdout",
     "output_type": "stream",
     "text": [
      "tensor([-0.0358,  0.0549, -0.0775,  0.0353,  0.0505,  0.0520,  0.0745, -0.0588,\n",
      "         0.0303, -0.0850], grad_fn=<SliceBackward0>)\n",
      "tensor([-0.4058, -1.1056, -7.2330, -1.7092,  1.0408,  1.5486, -0.9126,  5.7596,\n",
      "         1.2251, -1.2476])\n"
     ]
    }
   ],
   "source": [
    "optimizer.step()\n",
    "print(model.layer2.weight[0][0:10])\n",
    "print(model.layer2.weight.grad[0][0:10])"
   ]
  },
  {
   "cell_type": "code",
   "execution_count": 40,
   "id": "2fb2683d",
   "metadata": {},
   "outputs": [
    {
     "name": "stdout",
     "output_type": "stream",
     "text": [
      "tensor([-0.4058, -1.1056, -7.2330, -1.7092,  1.0408,  1.5486, -0.9126,  5.7596,\n",
      "         1.2251, -1.2476])\n",
      "tensor([ -7.7376, -15.2504, -25.6537, -16.7443,   0.3732,  -4.8263,  -3.0942,\n",
      "         35.4228,   6.1900,  -1.1203])\n",
      "tensor([0., 0., 0., 0., 0., 0., 0., 0., 0., 0.])\n"
     ]
    }
   ],
   "source": [
    "print(model.layer2.weight.grad[0][0:10])\n",
    "\n",
    "for i in range(0, 5):\n",
    "    prediction = model(some_input)\n",
    "    loss = (ideal_output - prediction).pow(2).sum()\n",
    "    loss.backward()\n",
    "\n",
    "print(model.layer2.weight.grad[0][0:10])\n",
    "\n",
    "optimizer.zero_grad(set_to_none=False)\n",
    "\n",
    "print(model.layer2.weight.grad[0][0:10])"
   ]
  },
  {
   "cell_type": "markdown",
   "id": "701fd647",
   "metadata": {},
   "source": [
    "- zero_grad를 하지 않으면 gradient 값이 커지게 된다. 즉, 다음 train batch 시작 전 gradient를 0으로 초기화하는 작업을 진행해야한다."
   ]
  },
  {
   "cell_type": "markdown",
   "id": "65e525e0",
   "metadata": {},
   "source": [
    "## Autograd on/off"
   ]
  },
  {
   "cell_type": "code",
   "execution_count": 41,
   "id": "b0298895",
   "metadata": {},
   "outputs": [
    {
     "name": "stdout",
     "output_type": "stream",
     "text": [
      "tensor([[1., 1., 1.],\n",
      "        [1., 1., 1.]], requires_grad=True)\n",
      "tensor([[2., 2., 2.],\n",
      "        [2., 2., 2.]], grad_fn=<MulBackward0>)\n",
      "tensor([[2., 2., 2.],\n",
      "        [2., 2., 2.]])\n"
     ]
    }
   ],
   "source": [
    "a = torch.ones(2, 3, requires_grad=True)\n",
    "print(a)\n",
    "\n",
    "b1 = 2 * a\n",
    "print(b1)\n",
    "\n",
    "a.requires_grad = False\n",
    "b2 = 2 * a\n",
    "print(b2)"
   ]
  },
  {
   "cell_type": "code",
   "execution_count": 42,
   "id": "2a832a00",
   "metadata": {},
   "outputs": [
    {
     "name": "stdout",
     "output_type": "stream",
     "text": [
      "tensor([[5., 5., 5.],\n",
      "        [5., 5., 5.]], grad_fn=<AddBackward0>)\n",
      "tensor([[5., 5., 5.],\n",
      "        [5., 5., 5.]])\n",
      "tensor([[6., 6., 6.],\n",
      "        [6., 6., 6.]], grad_fn=<MulBackward0>)\n"
     ]
    }
   ],
   "source": [
    "a = torch.ones(2, 3, requires_grad=True) * 2\n",
    "b = torch.ones(2, 3, requires_grad=True) * 3\n",
    "\n",
    "c1 = a + b\n",
    "print(c1)\n",
    "\n",
    "with torch.no_grad():\n",
    "    c2 = a + b\n",
    "\n",
    "print(c2)\n",
    "\n",
    "c3 = a * b\n",
    "print(c3)"
   ]
  },
  {
   "cell_type": "code",
   "execution_count": 43,
   "id": "be9b2266",
   "metadata": {},
   "outputs": [
    {
     "name": "stdout",
     "output_type": "stream",
     "text": [
      "tensor([[5., 5., 5.],\n",
      "        [5., 5., 5.]], grad_fn=<AddBackward0>)\n",
      "tensor([[5., 5., 5.],\n",
      "        [5., 5., 5.]])\n"
     ]
    }
   ],
   "source": [
    "def add_tensors1(x, y):\n",
    "    return x + y\n",
    "\n",
    "@torch.no_grad()\n",
    "def add_tensors2(x, y):\n",
    "    return x + y\n",
    "\n",
    "\n",
    "a = torch.ones(2, 3, requires_grad=True) * 2\n",
    "b = torch.ones(2, 3, requires_grad=True) * 3\n",
    "\n",
    "c1 = add_tensors1(a, b)\n",
    "print(c1)\n",
    "\n",
    "c2 = add_tensors2(a, b)\n",
    "print(c2)"
   ]
  },
  {
   "cell_type": "code",
   "execution_count": 44,
   "id": "2498c886",
   "metadata": {},
   "outputs": [
    {
     "name": "stdout",
     "output_type": "stream",
     "text": [
      "tensor([0.2415, 0.0564, 0.6263, 0.5639, 0.4520], requires_grad=True)\n",
      "tensor([0.2415, 0.0564, 0.6263, 0.5639, 0.4520])\n"
     ]
    }
   ],
   "source": [
    "x = torch.rand(5, requires_grad=True)\n",
    "y = x.detach()\n",
    "\n",
    "print(x)\n",
    "print(y)"
   ]
  },
  {
   "cell_type": "markdown",
   "id": "434bedda",
   "metadata": {},
   "source": [
    "## Autograd profiler\n",
    "- autograd는 모든 단계를 저장하고 있다. profiler를 통해 확인이 가능하다."
   ]
  },
  {
   "cell_type": "code",
   "execution_count": 45,
   "id": "b980e8aa",
   "metadata": {},
   "outputs": [
    {
     "ename": "RuntimeError",
     "evalue": "a leaf Variable that requires grad is being used in an in-place operation.",
     "output_type": "error",
     "traceback": [
      "\u001b[1;31m---------------------------------------------------------------------------\u001b[0m",
      "\u001b[1;31mRuntimeError\u001b[0m                              Traceback (most recent call last)",
      "Cell \u001b[1;32mIn [45], line 2\u001b[0m\n\u001b[0;32m      1\u001b[0m a \u001b[38;5;241m=\u001b[39m torch\u001b[38;5;241m.\u001b[39mlinspace(\u001b[38;5;241m0.\u001b[39m, \u001b[38;5;241m2.\u001b[39m \u001b[38;5;241m*\u001b[39m math\u001b[38;5;241m.\u001b[39mpi, steps\u001b[38;5;241m=\u001b[39m\u001b[38;5;241m25\u001b[39m, requires_grad\u001b[38;5;241m=\u001b[39m\u001b[38;5;28;01mTrue\u001b[39;00m)\n\u001b[1;32m----> 2\u001b[0m \u001b[43mtorch\u001b[49m\u001b[38;5;241;43m.\u001b[39;49m\u001b[43msin_\u001b[49m\u001b[43m(\u001b[49m\u001b[43ma\u001b[49m\u001b[43m)\u001b[49m\n",
      "\u001b[1;31mRuntimeError\u001b[0m: a leaf Variable that requires grad is being used in an in-place operation."
     ]
    }
   ],
   "source": [
    "a = torch.linspace(0., 2. * math.pi, steps=25, requires_grad=True)\n",
    "torch.sin_(a)"
   ]
  },
  {
   "cell_type": "code",
   "execution_count": null,
   "id": "c8460663",
   "metadata": {},
   "outputs": [],
   "source": [
    "device = torch.device('cpu')\n",
    "run_on_gpu = False\n",
    "if torch.cuda.is_available():\n",
    "    device = torch.device('cuda')\n",
    "    run_on_gpu = True\n",
    "\n",
    "x = torch.randn(2, 3, requires_grad=True)\n",
    "y = torch.rand(2, 3, requires_grad=True)\n",
    "z = torch.ones(2, 3, requires_grad=True)\n",
    "\n",
    "with torch.autograd.profiler.profile(use_cuda=run_on_gpu) as prf:\n",
    "    for _ in range(1000):\n",
    "        z = (z / x) * y\n",
    "\n",
    "print(prf.key_averages().table(sort_by='self_cpu_time_total'))"
   ]
  },
  {
   "cell_type": "markdown",
   "id": "239fa305",
   "metadata": {},
   "source": [
    "# Building Models with Pytorch"
   ]
  },
  {
   "cell_type": "code",
   "execution_count": 46,
   "id": "1fb4a165",
   "metadata": {},
   "outputs": [
    {
     "name": "stdout",
     "output_type": "stream",
     "text": [
      "The model:\n",
      "TinyModel(\n",
      "  (linear1): Linear(in_features=100, out_features=200, bias=True)\n",
      "  (activation): ReLU()\n",
      "  (linear2): Linear(in_features=200, out_features=10, bias=True)\n",
      "  (softmax): Softmax(dim=None)\n",
      ")\n",
      "\n",
      "\n",
      "Just one layer:\n",
      "Linear(in_features=200, out_features=10, bias=True)\n",
      "\n",
      "\n",
      "Model params:\n",
      "Parameter containing:\n",
      "tensor([[-0.0573, -0.0052, -0.0554,  ...,  0.0569, -0.0231, -0.0148],\n",
      "        [-0.0313, -0.0530, -0.0148,  ..., -0.0828, -0.0927,  0.0914],\n",
      "        [ 0.0108,  0.0758, -0.0037,  ...,  0.0260,  0.0023,  0.0563],\n",
      "        ...,\n",
      "        [-0.0950,  0.0197, -0.0981,  ...,  0.0453, -0.0367,  0.0834],\n",
      "        [ 0.0778, -0.0113, -0.0731,  ...,  0.0102, -0.0361, -0.0478],\n",
      "        [ 0.0990,  0.0890,  0.0780,  ...,  0.0440,  0.0648, -0.0008]],\n",
      "       requires_grad=True)\n",
      "Parameter containing:\n",
      "tensor([ 0.0394,  0.0072,  0.0679, -0.0619, -0.0594, -0.0047, -0.0390, -0.0102,\n",
      "        -0.0842, -0.0374,  0.0552,  0.0543, -0.0294,  0.0167, -0.0217, -0.0830,\n",
      "         0.0820,  0.0521,  0.0029, -0.0890, -0.0705, -0.0956, -0.0166, -0.0786,\n",
      "         0.0780,  0.0089,  0.0333, -0.0238,  0.0171, -0.0602,  0.0183,  0.0277,\n",
      "         0.0475,  0.0113, -0.0593,  0.0080, -0.0885, -0.0148,  0.0082, -0.0703,\n",
      "        -0.0876, -0.0476,  0.0027,  0.0404,  0.0749, -0.0427, -0.0756, -0.0423,\n",
      "         0.0209,  0.0599, -0.0161, -0.0972, -0.0740,  0.0620, -0.0551, -0.0008,\n",
      "         0.0627,  0.0767,  0.0290, -0.0645,  0.0656,  0.0233, -0.0176,  0.0483,\n",
      "         0.0300,  0.0635, -0.0795, -0.0476,  0.0249,  0.0564, -0.0966, -0.0301,\n",
      "         0.0087,  0.0481,  0.0060, -0.0648, -0.0913,  0.0946, -0.0597,  0.0634,\n",
      "         0.0184,  0.0825,  0.0421,  0.0172, -0.0914,  0.0535,  0.0266,  0.0800,\n",
      "        -0.0774, -0.0851, -0.0652, -0.0772,  0.0405,  0.0104, -0.0757, -0.0353,\n",
      "        -0.0662, -0.0912,  0.0072,  0.0570, -0.0916,  0.0554,  0.0839, -0.0219,\n",
      "         0.0947,  0.0285, -0.0808, -0.0590, -0.0647, -0.0179,  0.0470, -0.0514,\n",
      "        -0.0332,  0.0962, -0.0047,  0.0472, -0.0947, -0.0968,  0.0257,  0.0143,\n",
      "        -0.0942,  0.0898, -0.0802,  0.0542,  0.0838,  0.0954,  0.0126,  0.0695,\n",
      "         0.0879, -0.0095, -0.0117,  0.0357, -0.0023, -0.0863, -0.0379, -0.0790,\n",
      "        -0.0111,  0.0920, -0.0770,  0.0954, -0.0484,  0.0739,  0.0261, -0.0741,\n",
      "         0.0074, -0.0590, -0.0881,  0.0755, -0.0289,  0.0791,  0.0080,  0.0635,\n",
      "         0.0997,  0.0429, -0.0822,  0.0814,  0.0313, -0.0869, -0.0749, -0.0047,\n",
      "        -0.0795,  0.0648, -0.0640, -0.0631,  0.0440, -0.0176,  0.0934, -0.0311,\n",
      "        -0.0958, -0.0893,  0.0303,  0.0827,  0.0888,  0.0274,  0.0138,  0.0364,\n",
      "        -0.0375,  0.0958, -0.0656,  0.0923,  0.0797,  0.0636,  0.0245, -0.0327,\n",
      "        -0.0626,  0.0977,  0.0546,  0.0403,  0.0546, -0.0657,  0.0836, -0.0690,\n",
      "         0.0067, -0.0900,  0.0946,  0.0431,  0.0724,  0.0266, -0.0580,  0.0766],\n",
      "       requires_grad=True)\n",
      "Parameter containing:\n",
      "tensor([[-0.0003, -0.0662,  0.0370,  ...,  0.0600,  0.0328, -0.0226],\n",
      "        [ 0.0463, -0.0655,  0.0372,  ...,  0.0505,  0.0081, -0.0063],\n",
      "        [-0.0343, -0.0155, -0.0128,  ...,  0.0425, -0.0095, -0.0241],\n",
      "        ...,\n",
      "        [-0.0406, -0.0128,  0.0066,  ..., -0.0235, -0.0649, -0.0063],\n",
      "        [ 0.0537,  0.0317, -0.0368,  ...,  0.0318,  0.0274,  0.0647],\n",
      "        [ 0.0018,  0.0090, -0.0634,  ..., -0.0326, -0.0105,  0.0255]],\n",
      "       requires_grad=True)\n",
      "Parameter containing:\n",
      "tensor([ 0.0654, -0.0476,  0.0493,  0.0177, -0.0486,  0.0376,  0.0066,  0.0469,\n",
      "         0.0277,  0.0135], requires_grad=True)\n",
      "\n",
      "\n",
      "Layer params:\n",
      "Parameter containing:\n",
      "tensor([[-0.0003, -0.0662,  0.0370,  ...,  0.0600,  0.0328, -0.0226],\n",
      "        [ 0.0463, -0.0655,  0.0372,  ...,  0.0505,  0.0081, -0.0063],\n",
      "        [-0.0343, -0.0155, -0.0128,  ...,  0.0425, -0.0095, -0.0241],\n",
      "        ...,\n",
      "        [-0.0406, -0.0128,  0.0066,  ..., -0.0235, -0.0649, -0.0063],\n",
      "        [ 0.0537,  0.0317, -0.0368,  ...,  0.0318,  0.0274,  0.0647],\n",
      "        [ 0.0018,  0.0090, -0.0634,  ..., -0.0326, -0.0105,  0.0255]],\n",
      "       requires_grad=True)\n",
      "Parameter containing:\n",
      "tensor([ 0.0654, -0.0476,  0.0493,  0.0177, -0.0486,  0.0376,  0.0066,  0.0469,\n",
      "         0.0277,  0.0135], requires_grad=True)\n"
     ]
    }
   ],
   "source": [
    "class TinyModel(torch.nn.Module):\n",
    "\n",
    "    def __init__(self):\n",
    "        super(TinyModel, self).__init__()\n",
    "\n",
    "        self.linear1 = torch.nn.Linear(100, 200)\n",
    "        self.activation = torch.nn.ReLU()\n",
    "        self.linear2 = torch.nn.Linear(200, 10)\n",
    "        self.softmax = torch.nn.Softmax()\n",
    "\n",
    "    def forward(self, x):\n",
    "        x = self.linear1(x)\n",
    "        x = self.activation(x)\n",
    "        x = self.linear2(x)\n",
    "        x = self.softmax(x)\n",
    "        return x\n",
    "\n",
    "tinymodel = TinyModel()\n",
    "\n",
    "print('The model:')\n",
    "print(tinymodel)\n",
    "\n",
    "print('\\n\\nJust one layer:')\n",
    "print(tinymodel.linear2)\n",
    "\n",
    "print('\\n\\nModel params:')\n",
    "for param in tinymodel.parameters():\n",
    "    print(param)\n",
    "\n",
    "print('\\n\\nLayer params:')\n",
    "for param in tinymodel.linear2.parameters():\n",
    "    print(param)"
   ]
  },
  {
   "cell_type": "markdown",
   "id": "943c8e20",
   "metadata": {},
   "source": [
    "## Linear layer\n",
    "- n차원 input을 m차원 output으로 변환\n",
    "- 행렬의 크기가 바뀌어도 행렬의 성질이 변하지 않는다. → 선형변환 전/후 연산 결과는 동일해야한다."
   ]
  },
  {
   "cell_type": "code",
   "execution_count": 47,
   "id": "7ce18fa1",
   "metadata": {},
   "outputs": [
    {
     "name": "stdout",
     "output_type": "stream",
     "text": [
      "Input:\n",
      "tensor([[0.9533, 0.0585, 0.6771]])\n",
      "\n",
      "\n",
      "Weight and Bias parameters:\n",
      "Parameter containing:\n",
      "tensor([[ 0.3166,  0.2901, -0.3262],\n",
      "        [ 0.2931, -0.2510, -0.2691]], requires_grad=True)\n",
      "Parameter containing:\n",
      "tensor([-0.3051, -0.1316], requires_grad=True)\n",
      "\n",
      "\n",
      "Output:\n",
      "tensor([[-0.2072, -0.0491]], grad_fn=<AddmmBackward0>)\n"
     ]
    }
   ],
   "source": [
    "lin = torch.nn.Linear(3, 2)\n",
    "x = torch.rand(1, 3)\n",
    "print('Input:')\n",
    "print(x)\n",
    "\n",
    "print('\\n\\nWeight and Bias parameters:')\n",
    "for param in lin.parameters():\n",
    "    print(param)\n",
    "\n",
    "y = lin(x)\n",
    "print('\\n\\nOutput:')\n",
    "print(y)"
   ]
  },
  {
   "cell_type": "markdown",
   "id": "f975df40",
   "metadata": {},
   "source": [
    "## Convolution layer\n",
    "- Conv layer 첫 번째 인자 : input channel (ex. RGB 사진 : 3)\n",
    "- Conv layer 두 번째 인자 : output feature (ex. 6 = output = 6)\n",
    "- Conv layer 세 번째 인자 : window(kernel) size (ex. 5 = 5 * 5 kernel )"
   ]
  },
  {
   "cell_type": "code",
   "execution_count": 48,
   "id": "89835f9c",
   "metadata": {},
   "outputs": [],
   "source": [
    "class LeNet(torch.nn.Module):\n",
    "\n",
    "    def __init__(self):\n",
    "        super(LeNet, self).__init__()\n",
    "        # 1 input image channel (black & white), 6 output channels, 5x5 square convolution\n",
    "        # kernel\n",
    "        self.conv1 = torch.nn.Conv2d(1, 6, 5)\n",
    "        self.conv2 = torch.nn.Conv2d(6, 16, 3)\n",
    "        # an affine operation: y = Wx + b\n",
    "        self.fc1 = torch.nn.Linear(16 * 6 * 6, 120)  # 6*6 from image dimension\n",
    "        self.fc2 = torch.nn.Linear(120, 84)\n",
    "        self.fc3 = torch.nn.Linear(84, 10)\n",
    "\n",
    "    def forward(self, x):\n",
    "        # Max pooling over a (2, 2) window\n",
    "        x = F.max_pool2d(F.relu(self.conv1(x)), (2, 2))\n",
    "        # If the size is a square you can only specify a single number\n",
    "        x = F.max_pool2d(F.relu(self.conv2(x)), 2)\n",
    "        x = x.view(-1, self.num_flat_features(x))\n",
    "        x = F.relu(self.fc1(x))\n",
    "        x = F.relu(self.fc2(x))\n",
    "        x = self.fc3(x)\n",
    "        return x\n",
    "\n",
    "    def num_flat_features(self, x):\n",
    "        size = x.size()[1:]  # all dimensions except the batch dimension\n",
    "        num_features = 1\n",
    "        for s in size:\n",
    "            num_features *= s\n",
    "        return num_features"
   ]
  },
  {
   "cell_type": "markdown",
   "id": "2f268091",
   "metadata": {},
   "source": [
    "## Recurrent layer\n",
    "- LSTM, GRU... 주로 시계열 데이터 / 자연어 등\n",
    "- sequence에 대해 hidden state를 유지하며 진행\n",
    "- vocab_size : 입력 어휘 단어 수 (one-hot vector)\n",
    "- tagset_size : output set의 tag 수\n",
    "- embedding_dim : vocab에 대한 embedding size\n",
    "- hidden_dim : lstm memory size"
   ]
  },
  {
   "cell_type": "code",
   "execution_count": 49,
   "id": "dc123f7d",
   "metadata": {},
   "outputs": [],
   "source": [
    "class LSTMTagger(torch.nn.Module):\n",
    "\n",
    "    def __init__(self, embedding_dim, hidden_dim, vocab_size, tagset_size):\n",
    "        super(LSTMTagger, self).__init__()\n",
    "        self.hidden_dim = hidden_dim\n",
    "\n",
    "        self.word_embeddings = torch.nn.Embedding(vocab_size, embedding_dim)\n",
    "\n",
    "        # The LSTM takes word embeddings as inputs, and outputs hidden states\n",
    "        # with dimensionality hidden_dim.\n",
    "        self.lstm = torch.nn.LSTM(embedding_dim, hidden_dim)\n",
    "\n",
    "        # The linear layer that maps from hidden state space to tag space\n",
    "        self.hidden2tag = torch.nn.Linear(hidden_dim, tagset_size)\n",
    "\n",
    "    def forward(self, sentence):\n",
    "        embeds = self.word_embeddings(sentence)\n",
    "        lstm_out, _ = self.lstm(embeds.view(len(sentence), 1, -1))\n",
    "        tag_space = self.hidden2tag(lstm_out.view(len(sentence), -1))\n",
    "        tag_scores = F.log_softmax(tag_space, dim=1)\n",
    "        return tag_scores"
   ]
  },
  {
   "cell_type": "markdown",
   "id": "168cdc6c",
   "metadata": {},
   "source": [
    "## Transformers\n",
    "- 추후 공부해보기"
   ]
  },
  {
   "cell_type": "markdown",
   "id": "f0f6faeb",
   "metadata": {},
   "source": [
    "## Data Manipulation layer"
   ]
  },
  {
   "cell_type": "markdown",
   "id": "9bafbeb6",
   "metadata": {},
   "source": [
    "### Maxpooling\n",
    "- tensor의 크기를 줄인다.\n",
    "- 이 외에도 average pooling 등이 존재"
   ]
  },
  {
   "cell_type": "code",
   "execution_count": 50,
   "id": "75f0885e",
   "metadata": {},
   "outputs": [
    {
     "name": "stdout",
     "output_type": "stream",
     "text": [
      "tensor([[[0.8507, 0.9433, 0.1999, 0.3773, 0.8068, 0.2843],\n",
      "         [0.6769, 0.5166, 0.3126, 0.7104, 0.0595, 0.0766],\n",
      "         [0.5700, 0.3795, 0.6014, 0.7825, 0.6129, 0.1244],\n",
      "         [0.1728, 0.0317, 0.3130, 0.9733, 0.4610, 0.9418],\n",
      "         [0.0620, 0.2252, 0.4070, 0.0830, 0.5298, 0.6596],\n",
      "         [0.7779, 0.7025, 0.9647, 0.8481, 0.3717, 0.3629]]])\n",
      "tensor([[[0.9433, 0.8068],\n",
      "         [0.9647, 0.9733]]])\n"
     ]
    }
   ],
   "source": [
    "my_tensor = torch.rand(1, 6, 6)\n",
    "print(my_tensor)\n",
    "\n",
    "maxpool_layer = torch.nn.MaxPool2d(3)\n",
    "print(maxpool_layer(my_tensor))"
   ]
  },
  {
   "cell_type": "markdown",
   "id": "565bd458",
   "metadata": {},
   "source": [
    "### Normalization\n",
    "- gradient exploding/vanishing 방지\n",
    "- 학습 속도 향상\n",
    "- 편향 줄이기 등"
   ]
  },
  {
   "cell_type": "code",
   "execution_count": 51,
   "id": "f28b182d",
   "metadata": {},
   "outputs": [
    {
     "name": "stdout",
     "output_type": "stream",
     "text": [
      "tensor([[[10.3878, 16.3952,  7.4842, 13.1639],\n",
      "         [11.4669, 24.0686, 21.3807, 14.7114],\n",
      "         [12.5586, 20.4574, 24.9323, 22.5879],\n",
      "         [18.1548, 13.9798,  7.7083, 18.7162]]])\n",
      "tensor(16.1346)\n",
      "tensor([[[-0.4453,  1.3746, -1.3250,  0.3957],\n",
      "         [-1.2771,  1.2219,  0.6889, -0.6337],\n",
      "         [-1.6287,  0.0695,  1.0316,  0.5276],\n",
      "         [ 0.7988, -0.1500, -1.5752,  0.9264]]],\n",
      "       grad_fn=<NativeBatchNormBackward0>)\n",
      "tensor(-1.7136e-07, grad_fn=<MeanBackward0>)\n"
     ]
    }
   ],
   "source": [
    "my_tensor = torch.rand(1, 4, 4) * 20 + 5\n",
    "print(my_tensor)\n",
    "\n",
    "print(my_tensor.mean())\n",
    "\n",
    "norm_layer = torch.nn.BatchNorm1d(4)\n",
    "normed_tensor = norm_layer(my_tensor)\n",
    "print(normed_tensor)\n",
    "\n",
    "print(normed_tensor.mean())"
   ]
  },
  {
   "cell_type": "markdown",
   "id": "be47b156",
   "metadata": {},
   "source": [
    "### Dropout layer\n",
    "- 일정 확률로 뉴런을 제거\n",
    "- 특정 feature만 집중적으로 학습하는 것을 방지 (overfitting 방지)"
   ]
  },
  {
   "cell_type": "code",
   "execution_count": 52,
   "id": "59598871",
   "metadata": {},
   "outputs": [
    {
     "name": "stdout",
     "output_type": "stream",
     "text": [
      "tensor([[[0.0000, 0.0000, 1.2421, 0.0000],\n",
      "         [0.0000, 0.6510, 1.5140, 0.0000],\n",
      "         [0.0000, 0.8572, 0.7014, 1.4476],\n",
      "         [0.0000, 1.0432, 1.5562, 0.0000]]])\n",
      "tensor([[[0.6188, 0.0000, 1.2421, 0.6964],\n",
      "         [0.0000, 0.6510, 1.5140, 0.7427],\n",
      "         [0.0576, 0.0000, 0.0000, 0.0000],\n",
      "         [0.0000, 0.0000, 1.5562, 0.3549]]])\n"
     ]
    }
   ],
   "source": [
    "my_tensor = torch.rand(1, 4, 4)\n",
    "\n",
    "dropout = torch.nn.Dropout(p=0.4)\n",
    "print(dropout(my_tensor))\n",
    "print(dropout(my_tensor))"
   ]
  },
  {
   "cell_type": "markdown",
   "id": "418c8158",
   "metadata": {},
   "source": [
    "## Activation Function & Loss function"
   ]
  },
  {
   "cell_type": "markdown",
   "id": "12fe9449",
   "metadata": {},
   "source": [
    "# Tensorboard\n",
    "- 머신러닝에 필요한 시각화 및 도구 제공\n",
    "- 손실 및 정확도와 같은 항목 추적 및 시각화\n",
    "- 모델 그래프 시각화\n",
    "- 시간의 경과에 따라 달라지는 weight, bias, 기타 tensor 히스토그램 확인\n",
    "- TensorFlow 프로그램 profiling"
   ]
  },
  {
   "cell_type": "code",
   "execution_count": 53,
   "id": "81aba67a",
   "metadata": {},
   "outputs": [
    {
     "data": {
      "image/png": "[encoded data removed]",
      "text/plain": [
       "<Figure size 640x480 with 1 Axes>"
      ]
     },
     "metadata": {},
     "output_type": "display_data"
    }
   ],
   "source": [
    "transform = transforms.Compose(\n",
    "    [transforms.ToTensor(),\n",
    "    transforms.Normalize((0.5,), (0.5,))])\n",
    "\n",
    "training_set = torchvision.datasets.FashionMNIST('./data',\n",
    "    download=True,\n",
    "    train=True,\n",
    "    transform=transform)\n",
    "validation_set = torchvision.datasets.FashionMNIST('./data',\n",
    "    download=True,\n",
    "    train=False,\n",
    "    transform=transform)\n",
    "\n",
    "training_loader = torch.utils.data.DataLoader(training_set,\n",
    "                                              batch_size=4,\n",
    "                                              shuffle=True,\n",
    "                                              num_workers=2)\n",
    "\n",
    "\n",
    "validation_loader = torch.utils.data.DataLoader(validation_set,\n",
    "                                                batch_size=4,\n",
    "                                                shuffle=False,\n",
    "                                                num_workers=2)\n",
    "\n",
    "classes = ('T-shirt/top', 'Trouser', 'Pullover', 'Dress', 'Coat',\n",
    "        'Sandal', 'Shirt', 'Sneaker', 'Bag', 'Ankle Boot')\n",
    "\n",
    "def matplotlib_imshow(img, one_channel=False):\n",
    "    if one_channel:\n",
    "        img = img.mean(dim=0)\n",
    "    img = img / 2 + 0.5     # unnormalize\n",
    "    npimg = img.numpy()\n",
    "    if one_channel:\n",
    "        plt.imshow(npimg, cmap=\"Greys\")\n",
    "    else:\n",
    "        plt.imshow(np.transpose(npimg, (1, 2, 0)))\n",
    "\n",
    "dataiter = iter(training_loader)\n",
    "images, labels = next(dataiter)\n",
    "\n",
    "img_grid = torchvision.utils.make_grid(images)\n",
    "matplotlib_imshow(img_grid, one_channel=True)"
   ]
  },
  {
   "cell_type": "code",
   "execution_count": 54,
   "id": "270326fe",
   "metadata": {},
   "outputs": [],
   "source": [
    "writer = SummaryWriter('runs/fashion_mnist_experiment_1')\n",
    "writer.add_image('Four Fashion-MNIST Images', img_grid)\n",
    "writer.flush()"
   ]
  },
  {
   "cell_type": "code",
   "execution_count": 55,
   "id": "bcf5745b",
   "metadata": {},
   "outputs": [],
   "source": [
    "class Net(nn.Module):\n",
    "    def __init__(self):\n",
    "        super(Net, self).__init__()\n",
    "        self.conv1 = nn.Conv2d(1, 6, 5)\n",
    "        self.pool = nn.MaxPool2d(2, 2)\n",
    "        self.conv2 = nn.Conv2d(6, 16, 5)\n",
    "        self.fc1 = nn.Linear(16 * 4 * 4, 120)\n",
    "        self.fc2 = nn.Linear(120, 84)\n",
    "        self.fc3 = nn.Linear(84, 10)\n",
    "\n",
    "    def forward(self, x):\n",
    "        x = self.pool(F.relu(self.conv1(x)))\n",
    "        x = self.pool(F.relu(self.conv2(x)))\n",
    "        x = x.view(-1, 16 * 4 * 4)\n",
    "        x = F.relu(self.fc1(x))\n",
    "        x = F.relu(self.fc2(x))\n",
    "        x = self.fc3(x)\n",
    "        return x\n",
    "\n",
    "\n",
    "net = Net()\n",
    "criterion = nn.CrossEntropyLoss()\n",
    "optimizer = optim.SGD(net.parameters(), lr=0.001, momentum=0.9)"
   ]
  },
  {
   "cell_type": "code",
   "execution_count": 56,
   "id": "fa3d6a51",
   "metadata": {},
   "outputs": [
    {
     "name": "stdout",
     "output_type": "stream",
     "text": [
      "2500\n",
      "Batch 1000\n",
      "Batch 2000\n",
      "Batch 3000\n",
      "Batch 4000\n",
      "Batch 5000\n",
      "Batch 6000\n",
      "Batch 7000\n",
      "Batch 8000\n",
      "Batch 9000\n",
      "Batch 10000\n",
      "Batch 11000\n",
      "Batch 12000\n",
      "Batch 13000\n",
      "Batch 14000\n",
      "Batch 15000\n",
      "Finished Training\n"
     ]
    }
   ],
   "source": [
    "print(len(validation_loader))\n",
    "for epoch in range(1):\n",
    "    running_loss = 0.0\n",
    "\n",
    "    for i, data in enumerate(training_loader, 0):\n",
    "        # basic training loop\n",
    "        inputs, labels = data\n",
    "        optimizer.zero_grad()\n",
    "        outputs = net(inputs)\n",
    "        loss = criterion(outputs, labels)\n",
    "        loss.backward()\n",
    "        optimizer.step()\n",
    "\n",
    "        running_loss += loss.item()\n",
    "        if i % 1000 == 999:   \n",
    "            print('Batch {}'.format(i + 1))\n",
    " \n",
    "            running_vloss = 0.0\n",
    "\n",
    "            net.train(False) \n",
    "            for j, vdata in enumerate(validation_loader, 0):\n",
    "                vinputs, vlabels = vdata\n",
    "                voutputs = net(vinputs)\n",
    "                vloss = criterion(voutputs, vlabels)\n",
    "                running_vloss += vloss.item()\n",
    "            net.train(True)\n",
    "\n",
    "            avg_loss = running_loss / 1000\n",
    "            avg_vloss = running_vloss / len(validation_loader)\n",
    "\n",
    "            writer.add_scalars('Training vs. Validation Loss',\n",
    "                            { 'Training' : avg_loss, 'Validation' : avg_vloss },\n",
    "                            epoch * len(training_loader) + i)\n",
    "\n",
    "            running_loss = 0.0\n",
    "print('Finished Training')\n",
    "\n",
    "writer.flush()"
   ]
  },
  {
   "cell_type": "code",
   "execution_count": 57,
   "id": "facc480e",
   "metadata": {},
   "outputs": [],
   "source": [
    "dataiter = iter(training_loader)\n",
    "images, labels = next(dataiter)\n",
    "\n",
    "writer.add_graph(net, images)\n",
    "writer.flush()"
   ]
  },
  {
   "cell_type": "code",
   "execution_count": 58,
   "id": "0c8cc260",
   "metadata": {},
   "outputs": [
    {
     "ename": "AttributeError",
     "evalue": "module 'tensorflow._api.v2.io.gfile' has no attribute 'get_filesystem'",
     "output_type": "error",
     "traceback": [
      "\u001b[1;31m---------------------------------------------------------------------------\u001b[0m",
      "\u001b[1;31mAttributeError\u001b[0m                            Traceback (most recent call last)",
      "Cell \u001b[1;32mIn [58], line 12\u001b[0m\n\u001b[0;32m      9\u001b[0m class_labels \u001b[38;5;241m=\u001b[39m [classes[label] \u001b[38;5;28;01mfor\u001b[39;00m label \u001b[38;5;129;01min\u001b[39;00m labels]\n\u001b[0;32m     11\u001b[0m features \u001b[38;5;241m=\u001b[39m images\u001b[38;5;241m.\u001b[39mview(\u001b[38;5;241m-\u001b[39m\u001b[38;5;241m1\u001b[39m, \u001b[38;5;241m28\u001b[39m \u001b[38;5;241m*\u001b[39m \u001b[38;5;241m28\u001b[39m)\n\u001b[1;32m---> 12\u001b[0m \u001b[43mwriter\u001b[49m\u001b[38;5;241;43m.\u001b[39;49m\u001b[43madd_embedding\u001b[49m\u001b[43m(\u001b[49m\u001b[43mfeatures\u001b[49m\u001b[43m,\u001b[49m\u001b[43m \u001b[49m\u001b[43mmetadata\u001b[49m\u001b[38;5;241;43m=\u001b[39;49m\u001b[43mclass_labels\u001b[49m\u001b[43m,\u001b[49m\u001b[43m \u001b[49m\u001b[43mlabel_img\u001b[49m\u001b[38;5;241;43m=\u001b[39;49m\u001b[43mimages\u001b[49m\u001b[38;5;241;43m.\u001b[39;49m\u001b[43munsqueeze\u001b[49m\u001b[43m(\u001b[49m\u001b[38;5;241;43m1\u001b[39;49m\u001b[43m)\u001b[49m\u001b[43m)\u001b[49m\n\u001b[0;32m     13\u001b[0m writer\u001b[38;5;241m.\u001b[39mflush()\n\u001b[0;32m     14\u001b[0m writer\u001b[38;5;241m.\u001b[39mclose()\n",
      "File \u001b[1;32m~\\anaconda3\\lib\\site-packages\\torch\\utils\\tensorboard\\writer.py:926\u001b[0m, in \u001b[0;36mSummaryWriter.add_embedding\u001b[1;34m(self, mat, metadata, label_img, global_step, tag, metadata_header)\u001b[0m\n\u001b[0;32m    923\u001b[0m subdir \u001b[38;5;241m=\u001b[39m \u001b[38;5;124m\"\u001b[39m\u001b[38;5;132;01m%s\u001b[39;00m\u001b[38;5;124m/\u001b[39m\u001b[38;5;132;01m%s\u001b[39;00m\u001b[38;5;124m\"\u001b[39m \u001b[38;5;241m%\u001b[39m (\u001b[38;5;28mstr\u001b[39m(global_step)\u001b[38;5;241m.\u001b[39mzfill(\u001b[38;5;241m5\u001b[39m), \u001b[38;5;28mself\u001b[39m\u001b[38;5;241m.\u001b[39m_encode(tag))\n\u001b[0;32m    924\u001b[0m save_path \u001b[38;5;241m=\u001b[39m os\u001b[38;5;241m.\u001b[39mpath\u001b[38;5;241m.\u001b[39mjoin(\u001b[38;5;28mself\u001b[39m\u001b[38;5;241m.\u001b[39m_get_file_writer()\u001b[38;5;241m.\u001b[39mget_logdir(), subdir)\n\u001b[1;32m--> 926\u001b[0m fs \u001b[38;5;241m=\u001b[39m \u001b[43mtf\u001b[49m\u001b[38;5;241;43m.\u001b[39;49m\u001b[43mio\u001b[49m\u001b[38;5;241;43m.\u001b[39;49m\u001b[43mgfile\u001b[49m\u001b[38;5;241;43m.\u001b[39;49m\u001b[43mget_filesystem\u001b[49m(save_path)\n\u001b[0;32m    927\u001b[0m \u001b[38;5;28;01mif\u001b[39;00m fs\u001b[38;5;241m.\u001b[39mexists(save_path):\n\u001b[0;32m    928\u001b[0m     \u001b[38;5;28;01mif\u001b[39;00m fs\u001b[38;5;241m.\u001b[39misdir(save_path):\n",
      "\u001b[1;31mAttributeError\u001b[0m: module 'tensorflow._api.v2.io.gfile' has no attribute 'get_filesystem'"
     ]
    }
   ],
   "source": [
    "def select_n_random(data, labels, n=100):\n",
    "    assert len(data) == len(labels)\n",
    "\n",
    "    perm = torch.randperm(len(data))\n",
    "    return data[perm][:n], labels[perm][:n]\n",
    "\n",
    "images, labels = select_n_random(training_set.data, training_set.targets)\n",
    "\n",
    "class_labels = [classes[label] for label in labels]\n",
    "\n",
    "features = images.view(-1, 28 * 28)\n",
    "writer.add_embedding(features, metadata=class_labels, label_img=images.unsqueeze(1))\n",
    "writer.flush()\n",
    "writer.close()"
   ]
  },
  {
   "cell_type": "markdown",
   "id": "69293b1a",
   "metadata": {},
   "source": [
    "# Training with pytorch"
   ]
  },
  {
   "cell_type": "code",
   "execution_count": 59,
   "id": "0f2e3e5c",
   "metadata": {},
   "outputs": [
    {
     "name": "stdout",
     "output_type": "stream",
     "text": [
      "Training set has 60000 instances\n",
      "Validation set has 10000 instances\n"
     ]
    }
   ],
   "source": [
    "transform = transforms.Compose(\n",
    "    [transforms.ToTensor(),\n",
    "    transforms.Normalize((0.5,), (0.5,))])\n",
    "\n",
    "training_set = torchvision.datasets.FashionMNIST('./data', train=True, transform=transform, download=True)\n",
    "validation_set = torchvision.datasets.FashionMNIST('./data', train=False, transform=transform, download=True)\n",
    "\n",
    "training_loader = torch.utils.data.DataLoader(training_set, batch_size=4, shuffle=True)\n",
    "validation_loader = torch.utils.data.DataLoader(validation_set, batch_size=4, shuffle=False)\n",
    "\n",
    "classes = ('T-shirt/top', 'Trouser', 'Pullover', 'Dress', 'Coat',\n",
    "        'Sandal', 'Shirt', 'Sneaker', 'Bag', 'Ankle Boot')\n",
    "\n",
    "print('Training set has {} instances'.format(len(training_set)))\n",
    "print('Validation set has {} instances'.format(len(validation_set)))"
   ]
  },
  {
   "cell_type": "code",
   "execution_count": 60,
   "id": "8838434e",
   "metadata": {},
   "outputs": [
    {
     "name": "stdout",
     "output_type": "stream",
     "text": [
      "Pullover  T-shirt/top  Bag  Trouser\n"
     ]
    },
    {
     "data": {
      "image/png": "[encoded data removed]",
      "text/plain": [
       "<Figure size 640x480 with 1 Axes>"
      ]
     },
     "metadata": {},
     "output_type": "display_data"
    }
   ],
   "source": [
    "def matplotlib_imshow(img, one_channel=False):\n",
    "    if one_channel:\n",
    "        img = img.mean(dim=0)\n",
    "    img = img / 2 + 0.5     # unnormalize\n",
    "    npimg = img.numpy()\n",
    "    if one_channel:\n",
    "        plt.imshow(npimg, cmap=\"Greys\")\n",
    "    else:\n",
    "        plt.imshow(np.transpose(npimg, (1, 2, 0)))\n",
    "\n",
    "dataiter = iter(training_loader)\n",
    "images, labels = next(dataiter)\n",
    "\n",
    "img_grid = torchvision.utils.make_grid(images)\n",
    "matplotlib_imshow(img_grid, one_channel=True)\n",
    "print('  '.join(classes[labels[j]] for j in range(4)))"
   ]
  },
  {
   "cell_type": "code",
   "execution_count": 61,
   "id": "397793c0",
   "metadata": {},
   "outputs": [],
   "source": [
    "class GarmentClassifier(nn.Module):\n",
    "    def __init__(self):\n",
    "        super(GarmentClassifier, self).__init__()\n",
    "        self.conv1 = nn.Conv2d(1, 6, 5)\n",
    "        self.pool = nn.MaxPool2d(2, 2)\n",
    "        self.conv2 = nn.Conv2d(6, 16, 5)\n",
    "        self.fc1 = nn.Linear(16 * 4 * 4, 120)\n",
    "        self.fc2 = nn.Linear(120, 84)\n",
    "        self.fc3 = nn.Linear(84, 10)\n",
    "\n",
    "    def forward(self, x):\n",
    "        x = self.pool(F.relu(self.conv1(x)))\n",
    "        x = self.pool(F.relu(self.conv2(x)))\n",
    "        x = x.view(-1, 16 * 4 * 4)\n",
    "        x = F.relu(self.fc1(x))\n",
    "        x = F.relu(self.fc2(x))\n",
    "        x = self.fc3(x)\n",
    "        return x\n",
    "\n",
    "\n",
    "model = GarmentClassifier()"
   ]
  },
  {
   "cell_type": "code",
   "execution_count": 62,
   "id": "70c63876",
   "metadata": {},
   "outputs": [
    {
     "name": "stdout",
     "output_type": "stream",
     "text": [
      "tensor([[0.4511, 0.4274, 0.0244, 0.1724, 0.8423, 0.9008, 0.0835, 0.2933, 0.8210,\n",
      "         0.9050],\n",
      "        [0.6015, 0.5628, 0.2343, 0.7009, 0.5464, 0.6957, 0.4126, 0.5487, 0.5774,\n",
      "         0.9338],\n",
      "        [0.0816, 0.9957, 0.3180, 0.3508, 0.7750, 0.1982, 0.9364, 0.2251, 0.7173,\n",
      "         0.2039],\n",
      "        [0.7696, 0.0150, 0.2728, 0.1838, 0.3021, 0.0384, 0.4185, 0.5690, 0.5157,\n",
      "         0.0326]])\n",
      "tensor([1, 5, 3, 7])\n",
      "Total loss for this batch: 2.2965683937072754\n"
     ]
    }
   ],
   "source": [
    "loss_fn = torch.nn.CrossEntropyLoss()\n",
    "\n",
    "dummy_outputs = torch.rand(4, 10)\n",
    "dummy_labels = torch.tensor([1, 5, 3, 7])\n",
    "\n",
    "print(dummy_outputs)\n",
    "print(dummy_labels)\n",
    "\n",
    "loss = loss_fn(dummy_outputs, dummy_labels)\n",
    "print('Total loss for this batch: {}'.format(loss.item()))"
   ]
  },
  {
   "cell_type": "code",
   "execution_count": 63,
   "id": "f7ff208e",
   "metadata": {},
   "outputs": [],
   "source": [
    "optimizer = torch.optim.SGD(model.parameters(), lr=0.001, momentum=0.9)"
   ]
  },
  {
   "cell_type": "code",
   "execution_count": 64,
   "id": "6f4db41e",
   "metadata": {},
   "outputs": [],
   "source": [
    "def train_one_epoch(epoch_index, tb_writer):\n",
    "    running_loss = 0.\n",
    "    last_loss = 0.\n",
    "\n",
    "    for i, data in enumerate(training_loader):\n",
    "        inputs, labels = data\n",
    "        optimizer.zero_grad()\n",
    "        outputs = model(inputs)\n",
    "        loss = loss_fn(outputs, labels)\n",
    "        loss.backward()\n",
    "        optimizer.step()\n",
    "\n",
    "        running_loss += loss.item()\n",
    "        if i % 1000 == 999:\n",
    "            last_loss = running_loss / 1000 # loss per batch\n",
    "            print('  batch {} loss: {}'.format(i + 1, last_loss))\n",
    "            tb_x = epoch_index * len(training_loader) + i + 1\n",
    "            tb_writer.add_scalar('Loss/train', last_loss, tb_x)\n",
    "            running_loss = 0.\n",
    "\n",
    "    return last_loss"
   ]
  },
  {
   "cell_type": "code",
   "execution_count": 65,
   "id": "4aebfcb6",
   "metadata": {
    "scrolled": true
   },
   "outputs": [
    {
     "name": "stdout",
     "output_type": "stream",
     "text": [
      "EPOCH 1:\n",
      "  batch 1000 loss: 2.000756495773792\n",
      "  batch 2000 loss: 1.0029250657781958\n",
      "  batch 3000 loss: 0.7716421835385263\n",
      "  batch 4000 loss: 0.6780801229225472\n",
      "  batch 5000 loss: 0.5939130934290587\n",
      "  batch 6000 loss: 0.564078380914405\n",
      "  batch 7000 loss: 0.5651655988474377\n",
      "  batch 8000 loss: 0.5035909406099236\n",
      "  batch 9000 loss: 0.5032740121481475\n",
      "  batch 10000 loss: 0.46591344086738534\n",
      "  batch 11000 loss: 0.46422862087003886\n",
      "  batch 12000 loss: 0.4703911993777801\n",
      "  batch 13000 loss: 0.4574316748706042\n",
      "  batch 14000 loss: 0.4431960858716629\n",
      "  batch 15000 loss: 0.415035941894399\n",
      "LOSS train 0.415035941894399 valid 0.42039555311203003\n",
      "EPOCH 2:\n",
      "  batch 1000 loss: 0.43602111032698304\n",
      "  batch 2000 loss: 0.40372175794193754\n",
      "  batch 3000 loss: 0.4009909667420143\n",
      "  batch 4000 loss: 0.37883787710312755\n",
      "  batch 5000 loss: 0.3689136817608378\n",
      "  batch 6000 loss: 0.39375343419535785\n",
      "  batch 7000 loss: 0.362183744858834\n",
      "  batch 8000 loss: 0.37500043036579156\n",
      "  batch 9000 loss: 0.3739519485779747\n",
      "  batch 10000 loss: 0.35270786191901426\n",
      "  batch 11000 loss: 0.3414778329132823\n",
      "  batch 12000 loss: 0.3494464947019587\n",
      "  batch 13000 loss: 0.34539103747508487\n",
      "  batch 14000 loss: 0.3534968022164467\n",
      "  batch 15000 loss: 0.35577295083360516\n",
      "LOSS train 0.35577295083360516 valid 0.4177415668964386\n",
      "EPOCH 3:\n",
      "  batch 1000 loss: 0.3278721430657024\n",
      "  batch 2000 loss: 0.31023874463912215\n",
      "  batch 3000 loss: 0.35372064389954905\n",
      "  batch 4000 loss: 0.335299503066366\n",
      "  batch 5000 loss: 0.34603120314556873\n",
      "  batch 6000 loss: 0.3173795704657241\n",
      "  batch 7000 loss: 0.3212706689345432\n",
      "  batch 8000 loss: 0.32175187593522425\n",
      "  batch 9000 loss: 0.3237552386498719\n",
      "  batch 10000 loss: 0.3156826056757418\n",
      "  batch 11000 loss: 0.32844872857333396\n",
      "  batch 12000 loss: 0.32211815333215416\n",
      "  batch 13000 loss: 0.3092310088835311\n",
      "  batch 14000 loss: 0.29383671962644436\n",
      "  batch 15000 loss: 0.30592086432861104\n",
      "LOSS train 0.30592086432861104 valid 0.34801653027534485\n",
      "EPOCH 4:\n",
      "  batch 1000 loss: 0.2885391723516477\n",
      "  batch 2000 loss: 0.29403186754582566\n",
      "  batch 3000 loss: 0.2927848514779471\n",
      "  batch 4000 loss: 0.31199936714273646\n",
      "  batch 5000 loss: 0.3128766609026061\n",
      "  batch 6000 loss: 0.29563637091095735\n",
      "  batch 7000 loss: 0.30109624745917607\n",
      "  batch 8000 loss: 0.2960067173853531\n",
      "  batch 9000 loss: 0.2872457351060293\n",
      "  batch 10000 loss: 0.30730259181719155\n",
      "  batch 11000 loss: 0.2962796813455025\n",
      "  batch 12000 loss: 0.29287972894557923\n",
      "  batch 13000 loss: 0.2987109129731834\n",
      "  batch 14000 loss: 0.28685603685840033\n",
      "  batch 15000 loss: 0.2703456903529077\n",
      "LOSS train 0.2703456903529077 valid 0.35193270444869995\n",
      "EPOCH 5:\n",
      "  batch 1000 loss: 0.2518244586278015\n",
      "  batch 2000 loss: 0.2963992073141926\n",
      "  batch 3000 loss: 0.2717884769468947\n",
      "  batch 4000 loss: 0.2746457305878575\n",
      "  batch 5000 loss: 0.2799090015290203\n",
      "  batch 6000 loss: 0.2721495228579079\n",
      "  batch 7000 loss: 0.2889674556864047\n",
      "  batch 8000 loss: 0.2835850187599754\n",
      "  batch 9000 loss: 0.2856530128939776\n",
      "  batch 10000 loss: 0.28404246344320744\n",
      "  batch 11000 loss: 0.2753418582129525\n",
      "  batch 12000 loss: 0.27285972050242707\n",
      "  batch 13000 loss: 0.2870951555937354\n",
      "  batch 14000 loss: 0.25497709220728054\n",
      "  batch 15000 loss: 0.25830406313764254\n",
      "LOSS train 0.25830406313764254 valid 0.311568945646286\n"
     ]
    }
   ],
   "source": [
    "timestamp = datetime.now().strftime('%Y%m%d_%H%M%S')\n",
    "writer = SummaryWriter('runs/fashion_trainer_{}'.format(timestamp))\n",
    "epoch_number = 0\n",
    "\n",
    "EPOCHS = 5\n",
    "\n",
    "best_vloss = 1_000_000.\n",
    "\n",
    "for epoch in range(EPOCHS):\n",
    "    print('EPOCH {}:'.format(epoch_number + 1))\n",
    "\n",
    "    # Make sure gradient tracking is on, and do a pass over the data\n",
    "    model.train(True)\n",
    "    avg_loss = train_one_epoch(epoch_number, writer)\n",
    "\n",
    "\n",
    "    running_vloss = 0.0\n",
    "    # Set the model to evaluation mode, disabling dropout and using population\n",
    "    # statistics for batch normalization.\n",
    "    model.eval()\n",
    "\n",
    "    # Disable gradient computation and reduce memory consumption.\n",
    "    with torch.no_grad():\n",
    "        for i, vdata in enumerate(validation_loader):\n",
    "            vinputs, vlabels = vdata\n",
    "            voutputs = model(vinputs)\n",
    "            vloss = loss_fn(voutputs, vlabels)\n",
    "            running_vloss += vloss\n",
    "\n",
    "    avg_vloss = running_vloss / (i + 1)\n",
    "    print('LOSS train {} valid {}'.format(avg_loss, avg_vloss))\n",
    "\n",
    "    # Log the running loss averaged per batch\n",
    "    # for both training and validation\n",
    "    writer.add_scalars('Training vs. Validation Loss',\n",
    "                    { 'Training' : avg_loss, 'Validation' : avg_vloss },\n",
    "                    epoch_number + 1)\n",
    "    writer.flush()\n",
    "\n",
    "    # Track best performance, and save the model's state\n",
    "    if avg_vloss < best_vloss:\n",
    "        best_vloss = avg_vloss\n",
    "        model_path = 'model_{}_{}'.format(timestamp, epoch_number)\n",
    "        torch.save(model.state_dict(), model_path)\n",
    "\n",
    "    epoch_number += 1"
   ]
  },
  {
   "cell_type": "markdown",
   "id": "5191d869",
   "metadata": {},
   "source": [
    "# Model understanding with Captum\n",
    "- explainable model\n",
    "- Feature Attribution : output을 input의 관점에서 설명\n",
    "- Layer Attribution : hidden layer의 activity\n",
    "- Neuron Attribution : 단일 뉴런의 activity\n",
    "\n",
    "## Attribution Algorithm\n",
    "- gradient-based : backward propagation\n",
    "- perturbation-based : input에 대한 output의 변화\n",
    "\n",
    "## Captum\n",
    "- image, text, model type등에 대해 시각화하는 API"
   ]
  },
  {
   "cell_type": "markdown",
   "id": "3eb611d9",
   "metadata": {},
   "source": [
    "# Save & Load Models\n",
    "- model.eval()을 dropout, batch normalization layer 전에 해야한다. 일관되지 않은 결과가 나올 수 있다."
   ]
  },
  {
   "cell_type": "code",
   "execution_count": 73,
   "id": "0d1e579e",
   "metadata": {},
   "outputs": [
    {
     "name": "stderr",
     "output_type": "stream",
     "text": [
      "Downloading: \"https://download.pytorch.org/models/vgg16-397923af.pth\" to C:\\Users\\82108/.cache\\torch\\hub\\checkpoints\\vgg16-397923af.pth\n"
     ]
    },
    {
     "data": {
      "application/vnd.jupyter.widget-view+json": {
       "model_id": "9d8a990c9a1e466fa1d3e6fec7e078af",
       "version_major": 2,
       "version_minor": 0
      },
      "text/plain": [
       "  0%|          | 0.00/528M [00:00<?, ?B/s]"
      ]
     },
     "metadata": {},
     "output_type": "display_data"
    }
   ],
   "source": [
    "model = models.vgg16(weights='IMAGENET1K_V1')\n",
    "torch.save(model.state_dict(), 'model_weights.pth')"
   ]
  },
  {
   "cell_type": "code",
   "execution_count": 74,
   "id": "9d2d1793",
   "metadata": {
    "scrolled": true
   },
   "outputs": [
    {
     "data": {
      "text/plain": [
       "VGG(\n",
       "  (features): Sequential(\n",
       "    (0): Conv2d(3, 64, kernel_size=(3, 3), stride=(1, 1), padding=(1, 1))\n",
       "    (1): ReLU(inplace=True)\n",
       "    (2): Conv2d(64, 64, kernel_size=(3, 3), stride=(1, 1), padding=(1, 1))\n",
       "    (3): ReLU(inplace=True)\n",
       "    (4): MaxPool2d(kernel_size=2, stride=2, padding=0, dilation=1, ceil_mode=False)\n",
       "    (5): Conv2d(64, 128, kernel_size=(3, 3), stride=(1, 1), padding=(1, 1))\n",
       "    (6): ReLU(inplace=True)\n",
       "    (7): Conv2d(128, 128, kernel_size=(3, 3), stride=(1, 1), padding=(1, 1))\n",
       "    (8): ReLU(inplace=True)\n",
       "    (9): MaxPool2d(kernel_size=2, stride=2, padding=0, dilation=1, ceil_mode=False)\n",
       "    (10): Conv2d(128, 256, kernel_size=(3, 3), stride=(1, 1), padding=(1, 1))\n",
       "    (11): ReLU(inplace=True)\n",
       "    (12): Conv2d(256, 256, kernel_size=(3, 3), stride=(1, 1), padding=(1, 1))\n",
       "    (13): ReLU(inplace=True)\n",
       "    (14): Conv2d(256, 256, kernel_size=(3, 3), stride=(1, 1), padding=(1, 1))\n",
       "    (15): ReLU(inplace=True)\n",
       "    (16): MaxPool2d(kernel_size=2, stride=2, padding=0, dilation=1, ceil_mode=False)\n",
       "    (17): Conv2d(256, 512, kernel_size=(3, 3), stride=(1, 1), padding=(1, 1))\n",
       "    (18): ReLU(inplace=True)\n",
       "    (19): Conv2d(512, 512, kernel_size=(3, 3), stride=(1, 1), padding=(1, 1))\n",
       "    (20): ReLU(inplace=True)\n",
       "    (21): Conv2d(512, 512, kernel_size=(3, 3), stride=(1, 1), padding=(1, 1))\n",
       "    (22): ReLU(inplace=True)\n",
       "    (23): MaxPool2d(kernel_size=2, stride=2, padding=0, dilation=1, ceil_mode=False)\n",
       "    (24): Conv2d(512, 512, kernel_size=(3, 3), stride=(1, 1), padding=(1, 1))\n",
       "    (25): ReLU(inplace=True)\n",
       "    (26): Conv2d(512, 512, kernel_size=(3, 3), stride=(1, 1), padding=(1, 1))\n",
       "    (27): ReLU(inplace=True)\n",
       "    (28): Conv2d(512, 512, kernel_size=(3, 3), stride=(1, 1), padding=(1, 1))\n",
       "    (29): ReLU(inplace=True)\n",
       "    (30): MaxPool2d(kernel_size=2, stride=2, padding=0, dilation=1, ceil_mode=False)\n",
       "  )\n",
       "  (avgpool): AdaptiveAvgPool2d(output_size=(7, 7))\n",
       "  (classifier): Sequential(\n",
       "    (0): Linear(in_features=25088, out_features=4096, bias=True)\n",
       "    (1): ReLU(inplace=True)\n",
       "    (2): Dropout(p=0.5, inplace=False)\n",
       "    (3): Linear(in_features=4096, out_features=4096, bias=True)\n",
       "    (4): ReLU(inplace=True)\n",
       "    (5): Dropout(p=0.5, inplace=False)\n",
       "    (6): Linear(in_features=4096, out_features=1000, bias=True)\n",
       "  )\n",
       ")"
      ]
     },
     "execution_count": 74,
     "metadata": {},
     "output_type": "execute_result"
    }
   ],
   "source": [
    "model = models.vgg16() # we do not specify ``weights``, i.e. create untrained model\n",
    "model.load_state_dict(torch.load('model_weights.pth'))\n",
    "model.eval()"
   ]
  },
  {
   "cell_type": "code",
   "execution_count": 75,
   "id": "aa65d2c0",
   "metadata": {},
   "outputs": [],
   "source": [
    "torch.save(model, 'model.pth')"
   ]
  },
  {
   "cell_type": "code",
   "execution_count": 76,
   "id": "d64ff283",
   "metadata": {},
   "outputs": [],
   "source": [
    "model = torch.load('model.pth')"
   ]
  },
  {
   "cell_type": "code",
   "execution_count": 77,
   "id": "615a7767",
   "metadata": {
    "scrolled": true
   },
   "outputs": [
    {
     "data": {
      "text/plain": [
       "VGG(\n",
       "  (features): Sequential(\n",
       "    (0): Conv2d(3, 64, kernel_size=(3, 3), stride=(1, 1), padding=(1, 1))\n",
       "    (1): ReLU(inplace=True)\n",
       "    (2): Conv2d(64, 64, kernel_size=(3, 3), stride=(1, 1), padding=(1, 1))\n",
       "    (3): ReLU(inplace=True)\n",
       "    (4): MaxPool2d(kernel_size=2, stride=2, padding=0, dilation=1, ceil_mode=False)\n",
       "    (5): Conv2d(64, 128, kernel_size=(3, 3), stride=(1, 1), padding=(1, 1))\n",
       "    (6): ReLU(inplace=True)\n",
       "    (7): Conv2d(128, 128, kernel_size=(3, 3), stride=(1, 1), padding=(1, 1))\n",
       "    (8): ReLU(inplace=True)\n",
       "    (9): MaxPool2d(kernel_size=2, stride=2, padding=0, dilation=1, ceil_mode=False)\n",
       "    (10): Conv2d(128, 256, kernel_size=(3, 3), stride=(1, 1), padding=(1, 1))\n",
       "    (11): ReLU(inplace=True)\n",
       "    (12): Conv2d(256, 256, kernel_size=(3, 3), stride=(1, 1), padding=(1, 1))\n",
       "    (13): ReLU(inplace=True)\n",
       "    (14): Conv2d(256, 256, kernel_size=(3, 3), stride=(1, 1), padding=(1, 1))\n",
       "    (15): ReLU(inplace=True)\n",
       "    (16): MaxPool2d(kernel_size=2, stride=2, padding=0, dilation=1, ceil_mode=False)\n",
       "    (17): Conv2d(256, 512, kernel_size=(3, 3), stride=(1, 1), padding=(1, 1))\n",
       "    (18): ReLU(inplace=True)\n",
       "    (19): Conv2d(512, 512, kernel_size=(3, 3), stride=(1, 1), padding=(1, 1))\n",
       "    (20): ReLU(inplace=True)\n",
       "    (21): Conv2d(512, 512, kernel_size=(3, 3), stride=(1, 1), padding=(1, 1))\n",
       "    (22): ReLU(inplace=True)\n",
       "    (23): MaxPool2d(kernel_size=2, stride=2, padding=0, dilation=1, ceil_mode=False)\n",
       "    (24): Conv2d(512, 512, kernel_size=(3, 3), stride=(1, 1), padding=(1, 1))\n",
       "    (25): ReLU(inplace=True)\n",
       "    (26): Conv2d(512, 512, kernel_size=(3, 3), stride=(1, 1), padding=(1, 1))\n",
       "    (27): ReLU(inplace=True)\n",
       "    (28): Conv2d(512, 512, kernel_size=(3, 3), stride=(1, 1), padding=(1, 1))\n",
       "    (29): ReLU(inplace=True)\n",
       "    (30): MaxPool2d(kernel_size=2, stride=2, padding=0, dilation=1, ceil_mode=False)\n",
       "  )\n",
       "  (avgpool): AdaptiveAvgPool2d(output_size=(7, 7))\n",
       "  (classifier): Sequential(\n",
       "    (0): Linear(in_features=25088, out_features=4096, bias=True)\n",
       "    (1): ReLU(inplace=True)\n",
       "    (2): Dropout(p=0.5, inplace=False)\n",
       "    (3): Linear(in_features=4096, out_features=4096, bias=True)\n",
       "    (4): ReLU(inplace=True)\n",
       "    (5): Dropout(p=0.5, inplace=False)\n",
       "    (6): Linear(in_features=4096, out_features=1000, bias=True)\n",
       "  )\n",
       ")"
      ]
     },
     "execution_count": 77,
     "metadata": {},
     "output_type": "execute_result"
    }
   ],
   "source": [
    "model"
   ]
  },
  {
   "cell_type": "code",
   "execution_count": null,
   "id": "2c6d9479",
   "metadata": {},
   "outputs": [],
   "source": []
  },
  {
   "cell_type": "code",
   "execution_count": null,
   "id": "0b7dcdb0",
   "metadata": {},
   "outputs": [],
   "source": []
  },
  {
   "cell_type": "code",
   "execution_count": null,
   "id": "5ea9c444",
   "metadata": {},
   "outputs": [],
   "source": []
  },
  {
   "cell_type": "code",
   "execution_count": null,
   "id": "f42c33bc",
   "metadata": {},
   "outputs": [],
   "source": []
  },
  {
   "cell_type": "code",
   "execution_count": null,
   "id": "6893846f",
   "metadata": {},
   "outputs": [],
   "source": []
  },
  {
   "cell_type": "code",
   "execution_count": null,
   "id": "f62982d1",
   "metadata": {},
   "outputs": [],
   "source": []
  },
  {
   "cell_type": "code",
   "execution_count": null,
   "id": "aeded5ad",
   "metadata": {},
   "outputs": [],
   "source": []
  },
  {
   "cell_type": "code",
   "execution_count": null,
   "id": "ff9caff6",
   "metadata": {},
   "outputs": [],
   "source": []
  },
  {
   "cell_type": "code",
   "execution_count": null,
   "id": "270b1af2",
   "metadata": {},
   "outputs": [],
   "source": []
  },
  {
   "cell_type": "code",
   "execution_count": null,
   "id": "116c8733",
   "metadata": {},
   "outputs": [],
   "source": []
  },
  {
   "cell_type": "code",
   "execution_count": null,
   "id": "860d79a1",
   "metadata": {},
   "outputs": [],
   "source": []
  },
  {
   "cell_type": "code",
   "execution_count": null,
   "id": "26de3f2a",
   "metadata": {},
   "outputs": [],
   "source": []
  },
  {
   "cell_type": "code",
   "execution_count": null,
   "id": "69efa5f7",
   "metadata": {},
   "outputs": [],
   "source": []
  },
  {
   "cell_type": "code",
   "execution_count": null,
   "id": "22ec2173",
   "metadata": {},
   "outputs": [],
   "source": []
  },
  {
   "cell_type": "code",
   "execution_count": null,
   "id": "d63c7c86",
   "metadata": {},
   "outputs": [],
   "source": []
  },
  {
   "cell_type": "code",
   "execution_count": null,
   "id": "d86fceac",
   "metadata": {},
   "outputs": [],
   "source": []
  },
  {
   "cell_type": "code",
   "execution_count": null,
   "id": "1732dbb4",
   "metadata": {},
   "outputs": [],
   "source": []
  },
  {
   "cell_type": "code",
   "execution_count": null,
   "id": "fcc6ea34",
   "metadata": {},
   "outputs": [],
   "source": []
  }
 ],
 "metadata": {
  "kernelspec": {
   "display_name": "Python 3 (ipykernel)",
   "language": "python",
   "name": "python3"
  },
  "language_info": {
   "codemirror_mode": {
    "name": "ipython",
    "version": 3
   },
   "file_extension": ".py",
   "mimetype": "text/x-python",
   "name": "python",
   "nbconvert_exporter": "python",
   "pygments_lexer": "ipython3",
   "version": "3.9.15"
  }
 },
 "nbformat": 4,
 "nbformat_minor": 5
}
